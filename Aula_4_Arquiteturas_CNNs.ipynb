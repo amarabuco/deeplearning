{
  "nbformat": 4,
  "nbformat_minor": 0,
  "metadata": {
    "colab": {
      "provenance": [],
      "gpuType": "T4",
      "collapsed_sections": [
        "qmzcInBuHMcn"
      ],
      "authorship_tag": "ABX9TyNA5cyAiNA1nwGJdghSnsWW",
      "include_colab_link": true
    },
    "kernelspec": {
      "name": "python3",
      "display_name": "Python 3"
    },
    "language_info": {
      "name": "python"
    },
    "accelerator": "GPU"
  },
  "cells": [
    {
      "cell_type": "markdown",
      "metadata": {
        "id": "view-in-github",
        "colab_type": "text"
      },
      "source": [
        "<a href=\"https://colab.research.google.com/github/amarabuco/deeplearning-2024.2/blob/main/Aula_4_Arquiteturas_CNNs.ipynb\" target=\"_parent\"><img src=\"https://colab.research.google.com/assets/colab-badge.svg\" alt=\"Open In Colab\"/></a>"
      ]
    },
    {
      "cell_type": "markdown",
      "source": [
        "# Arquiteturas CNNs"
      ],
      "metadata": {
        "id": "S3kxVuffMKOz"
      }
    },
    {
      "cell_type": "code",
      "source": [
        "import torch\n",
        "import torch.nn as nn\n",
        "import torch.nn.functional as F\n",
        "import torchvision\n",
        "import torch.optim as optim\n",
        "import torchvision.transforms as transforms"
      ],
      "metadata": {
        "id": "1UHn8v17uTG9"
      },
      "execution_count": null,
      "outputs": []
    },
    {
      "cell_type": "code",
      "source": [
        "transform = transforms.Compose(\n",
        "    [transforms.Resize((224, 224)),\n",
        "     transforms.ToTensor(),\n",
        "     transforms.Normalize(mean=[0.485, 0.456, 0.406], std=[0.229, 0.224, 0.225])\n",
        "])"
      ],
      "metadata": {
        "id": "2blfXo_JJuBb"
      },
      "execution_count": null,
      "outputs": []
    },
    {
      "cell_type": "markdown",
      "source": [
        "## MNIST"
      ],
      "metadata": {
        "id": "qmzcInBuHMcn"
      }
    },
    {
      "cell_type": "code",
      "source": [
        "trainset = torchvision.datasets.MNIST(root='./data', train=True,  transform=transform,\n",
        "                                        download=True)\n",
        "trainloader = torch.utils.data.DataLoader(trainset, batch_size=16,\n",
        "                                          shuffle=True, num_workers=2)"
      ],
      "metadata": {
        "id": "Mi5YP0IKJhZ_",
        "colab": {
          "base_uri": "https://localhost:8080/",
          "height": 193
        },
        "outputId": "9a0e7ab0-5c51-47a3-d695-efc8eef330e0"
      },
      "execution_count": null,
      "outputs": [
        {
          "output_type": "error",
          "ename": "NameError",
          "evalue": "name 'transform' is not defined",
          "traceback": [
            "\u001b[0;31m---------------------------------------------------------------------------\u001b[0m",
            "\u001b[0;31mNameError\u001b[0m                                 Traceback (most recent call last)",
            "\u001b[0;32m<ipython-input-3-0c3696e47b78>\u001b[0m in \u001b[0;36m<cell line: 1>\u001b[0;34m()\u001b[0m\n\u001b[0;32m----> 1\u001b[0;31m trainset = torchvision.datasets.MNIST(root='./data', train=True,  transform=transform,\n\u001b[0m\u001b[1;32m      2\u001b[0m                                         download=True)\n\u001b[1;32m      3\u001b[0m trainloader = torch.utils.data.DataLoader(trainset, batch_size=16,\n\u001b[1;32m      4\u001b[0m                                           shuffle=True, num_workers=2)\n",
            "\u001b[0;31mNameError\u001b[0m: name 'transform' is not defined"
          ]
        }
      ]
    },
    {
      "cell_type": "code",
      "source": [
        "testset = torchvision.datasets.MNIST(root='./data', train=False, transform=transform,\n",
        "                                       download=True)\n",
        "testloader = torch.utils.data.DataLoader(testset, batch_size=16,\n",
        "                                         shuffle=False, num_workers=2)"
      ],
      "metadata": {
        "id": "aYSEqtF0JpCn"
      },
      "execution_count": null,
      "outputs": []
    },
    {
      "cell_type": "code",
      "source": [
        "trainset.data[0].shape"
      ],
      "metadata": {
        "colab": {
          "base_uri": "https://localhost:8080/"
        },
        "id": "z8bO9-4jLX6-",
        "outputId": "60badf90-4ea0-4703-e54f-28721c8521e9"
      },
      "execution_count": null,
      "outputs": [
        {
          "output_type": "execute_result",
          "data": {
            "text/plain": [
              "torch.Size([28, 28])"
            ]
          },
          "metadata": {},
          "execution_count": 7
        }
      ]
    },
    {
      "cell_type": "code",
      "source": [
        "trainset.data.shape"
      ],
      "metadata": {
        "colab": {
          "base_uri": "https://localhost:8080/"
        },
        "id": "yzVcLTvpLMqA",
        "outputId": "36681565-b526-428e-e675-edcabbf6da7d"
      },
      "execution_count": null,
      "outputs": [
        {
          "output_type": "execute_result",
          "data": {
            "text/plain": [
              "torch.Size([60000, 28, 28])"
            ]
          },
          "metadata": {},
          "execution_count": 8
        }
      ]
    },
    {
      "cell_type": "code",
      "source": [
        "import matplotlib.pyplot as plt\n",
        "import numpy as np"
      ],
      "metadata": {
        "id": "zqnLHL9zKoZA"
      },
      "execution_count": null,
      "outputs": []
    },
    {
      "cell_type": "code",
      "source": [
        "# Helper function for inline image display\n",
        "def matplotlib_imshow(img, one_channel=False):\n",
        "    if one_channel:\n",
        "        img = img.mean(dim=0)\n",
        "    img = img / 2 + 0.5     # unnormalize\n",
        "    npimg = img.numpy()\n",
        "    if one_channel:\n",
        "        plt.imshow(npimg, cmap=\"Greys\")\n",
        "    else:\n",
        "        plt.imshow(np.transpose(npimg, (1, 2, 0)))"
      ],
      "metadata": {
        "id": "NW56DaTQ7eQ8"
      },
      "execution_count": null,
      "outputs": []
    },
    {
      "cell_type": "code",
      "source": [
        "dataiter = iter(trainloader)\n",
        "images, labels = next(dataiter)"
      ],
      "metadata": {
        "id": "tMlsEnqD7hTe"
      },
      "execution_count": null,
      "outputs": []
    },
    {
      "cell_type": "code",
      "source": [
        "# Create a grid from the images and show them\n",
        "img_grid = torchvision.utils.make_grid(images)\n",
        "matplotlib_imshow(img_grid, one_channel=True)\n",
        "print('  '.join(trainset.classes[labels[j]] for j in range(4)))"
      ],
      "metadata": {
        "colab": {
          "base_uri": "https://localhost:8080/",
          "height": 209
        },
        "id": "xfROtDeg71z7",
        "outputId": "5b8dca2f-2d89-4b9e-a534-70d05be28815"
      },
      "execution_count": null,
      "outputs": [
        {
          "output_type": "stream",
          "name": "stdout",
          "text": [
            "0 - zero  8 - eight  4 - four  6 - six\n"
          ]
        },
        {
          "output_type": "display_data",
          "data": {
            "text/plain": [
              "<Figure size 640x480 with 1 Axes>"
            ],
            "image/png": "[encoded data removed]"
          },
          "metadata": {}
        }
      ]
    },
    {
      "cell_type": "code",
      "source": [
        "device = torch.device(\"cuda:0\" if torch.cuda.is_available() else \"cpu\")"
      ],
      "metadata": {
        "id": "hKOlmaFhGC4t"
      },
      "execution_count": null,
      "outputs": []
    },
    {
      "cell_type": "markdown",
      "source": [
        "## Lenet"
      ],
      "metadata": {
        "id": "c-TQaddSQafd"
      }
    },
    {
      "cell_type": "markdown",
      "source": [
        "![image.png](data:image/png;base64,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)"
      ],
      "metadata": {
        "id": "LycNLK4yF6aj"
      }
    },
    {
      "cell_type": "code",
      "source": [
        "class Lenet(nn.Module):\n",
        "  def __init__(self):\n",
        "    super(Lenet, self).__init__()\n",
        "    self.c1 = torch.nn.Conv2d(1,6,5, padding=2)\n",
        "    self.s2 = nn.AvgPool2d(2, stride=2)\n",
        "    self.c3 = torch.nn.Conv2d(6,16,5)\n",
        "    self.s4 = nn.AvgPool2d(2, stride=2)\n",
        "    self.c5 = torch.nn.Conv2d(16,120,5)\n",
        "    self.f6 = torch.nn.Linear(120, 84)\n",
        "    self.out = torch.nn.Linear(84, 10)\n",
        "\n",
        "  def forward(self, x):\n",
        "    x = self.s2(F.tanh(self.c1(x)))\n",
        "    x = self.s4(F.tanh(self.c3(x)))\n",
        "    x = F.tanh(self.c5(x))\n",
        "    x = x.view(-1, self.num_flat_features(x))\n",
        "    x = F.tanh(self.f6(x))\n",
        "    x = self.out(x)\n",
        "    return x\n",
        "\n",
        "  def num_flat_features(self, x):\n",
        "    size = x.size()[1:]\n",
        "    num_features = 1\n",
        "    for s in size:\n",
        "      num_features *= s\n",
        "    return num_features\n",
        "\n",
        "lenet = Lenet()\n",
        "lenet.to(device)"
      ],
      "metadata": {
        "colab": {
          "base_uri": "https://localhost:8080/"
        },
        "id": "XuSZf1pz9kN8",
        "outputId": "4158604a-5684-4711-fd84-0ff7bb98b466"
      },
      "execution_count": null,
      "outputs": [
        {
          "output_type": "execute_result",
          "data": {
            "text/plain": [
              "Lenet(\n",
              "  (conv1): Conv2d(1, 6, kernel_size=(5, 5), stride=(1, 1), padding=(2, 2))\n",
              "  (pool): AvgPool2d(kernel_size=2, stride=2, padding=0)\n",
              "  (conv2): Conv2d(6, 16, kernel_size=(5, 5), stride=(1, 1))\n",
              "  (conv3): Conv2d(16, 120, kernel_size=(5, 5), stride=(1, 1))\n",
              "  (fc1): Linear(in_features=120, out_features=84, bias=True)\n",
              "  (fc2): Linear(in_features=84, out_features=10, bias=True)\n",
              ")"
            ]
          },
          "metadata": {},
          "execution_count": 24
        }
      ]
    },
    {
      "cell_type": "code",
      "source": [
        "# criterion = nn.MSELoss()\n",
        "criterion = nn.CrossEntropyLoss()"
      ],
      "metadata": {
        "id": "kwWZfKTeaPl6"
      },
      "execution_count": null,
      "outputs": []
    },
    {
      "cell_type": "code",
      "source": [
        "# Optimizers specified in the torch.optim package\n",
        "optimizer = torch.optim.SGD(lenet.parameters(), lr=0.001, momentum=0.9)"
      ],
      "metadata": {
        "id": "8Q6Y0S1QaV8V"
      },
      "execution_count": null,
      "outputs": []
    },
    {
      "cell_type": "code",
      "source": [
        "loss_list = []\n",
        "stop = 0\n",
        "for epoch in range(3):\n",
        "  running_loss = 0.0\n",
        "  # if stop == 1:\n",
        "  #   break\n",
        "\n",
        "  for i, data in enumerate(trainloader, 0):\n",
        "\n",
        "    # inputs, labels = data\n",
        "    inputs, labels = data[0].to(device), data[1].to(device)\n",
        "    # inputs = inputs.to(device)\n",
        "    # labels = labels.to(device)\n",
        "\n",
        "    optimizer.zero_grad()\n",
        "\n",
        "    outputs = lenet(inputs)\n",
        "    loss = criterion(outputs, labels)\n",
        "    loss.backward()\n",
        "    optimizer.step()\n",
        "\n",
        "    running_loss += loss.item()\n",
        "    if i % 2000 == 1999:\n",
        "      loss_list.append(running_loss / 2000)\n",
        "      print('[%d, %5d] loss: %.3f' % (epoch + 1, i + 1, running_loss / 2000))\n",
        "      running_loss = 0.0\n",
        "\n",
        "    # if loss_list[-1] > loss_list[-2]:\n",
        "    #   stop = 1\n",
        "    #   break\n",
        "\n",
        "\n",
        "print('Finished Training')"
      ],
      "metadata": {
        "colab": {
          "base_uri": "https://localhost:8080/"
        },
        "id": "LF7zCN4eaZn0",
        "outputId": "ca38a001-e084-4dbb-828a-3d2d940a39ca"
      },
      "execution_count": null,
      "outputs": [
        {
          "output_type": "stream",
          "name": "stdout",
          "text": [
            "[1,  2000] loss: 0.993\n",
            "[2,  2000] loss: 0.227\n",
            "[3,  2000] loss: 0.135\n",
            "Finished Training\n"
          ]
        }
      ]
    },
    {
      "cell_type": "code",
      "source": [
        "correct = 0\n",
        "total = 0\n",
        "\n",
        "with torch.no_grad(): # since we're not training, we don't need to calculate the gradients for our outputs\n",
        "    for data in testloader:\n",
        "        images, labels = data[0].to(device), data[1].to(device)\n",
        "\n",
        "        outputs = lenet(images) # calculate outputs by running images through the network\n",
        "\n",
        "        _, predicted = torch.max(outputs.data, 1) # the class with the highest energy is what we choose as prediction\n",
        "        total += labels.size(0)\n",
        "        correct += (predicted == labels).sum().item()\n",
        "\n",
        "print(f'Accuracy of the network on the test images: {100 * correct // total} %')"
      ],
      "metadata": {
        "colab": {
          "base_uri": "https://localhost:8080/"
        },
        "id": "a9rWImISTx_d",
        "outputId": "60248656-150b-4f87-b1d9-dc26a71a67c0"
      },
      "execution_count": null,
      "outputs": [
        {
          "output_type": "stream",
          "name": "stdout",
          "text": [
            "Accuracy of the network on the test images: 97 %\n"
          ]
        }
      ]
    },
    {
      "cell_type": "markdown",
      "source": [
        "## Imagenet"
      ],
      "metadata": {
        "id": "Su_KCaYMHKBm"
      }
    },
    {
      "cell_type": "markdown",
      "source": [
        "https://pytorch.org/vision/stable/generated/torchvision.datasets.ImageNet.html"
      ],
      "metadata": {
        "id": "rsXivc1TLKR0"
      }
    },
    {
      "cell_type": "code",
      "source": [
        "# !wget https://image-net.org/data/ILSVRC/2012/ILSVRC2012_devkit_t12.tar.gz -P ./data"
      ],
      "metadata": {
        "colab": {
          "base_uri": "https://localhost:8080/"
        },
        "id": "GBB6XM_nhidC",
        "outputId": "6bd3104e-651f-44ad-8036-c1d63d406204"
      },
      "execution_count": null,
      "outputs": [
        {
          "output_type": "stream",
          "name": "stdout",
          "text": [
            "--2024-09-03 20:32:04--  https://image-net.org/data/ILSVRC/2012/ILSVRC2012_devkit_t12.tar.gz\n",
            "Resolving image-net.org (image-net.org)... 171.64.68.16\n",
            "Connecting to image-net.org (image-net.org)|171.64.68.16|:443... connected.\n",
            "HTTP request sent, awaiting response... 200 OK\n",
            "Length: 2568145 (2.4M) [application/x-gzip]\n",
            "Saving to: ‘./data/ILSVRC2012_devkit_t12.tar.gz.1’\n",
            "\n",
            "ILSVRC2012_devkit_t 100%[===================>]   2.45M  1.75MB/s    in 1.4s    \n",
            "\n",
            "2024-09-03 20:32:06 (1.75 MB/s) - ‘./data/ILSVRC2012_devkit_t12.tar.gz.1’ saved [2568145/2568145]\n",
            "\n"
          ]
        }
      ]
    },
    {
      "cell_type": "code",
      "source": [
        "# !wget https://image-net.org/data/ILSVRC/2012/ILSVRC2012_img_train.tar -P ./data\n"
      ],
      "metadata": {
        "id": "ONM9HiWuiK9F",
        "colab": {
          "base_uri": "https://localhost:8080/"
        },
        "outputId": "3fbd7208-d1d4-41f1-dff3-f0b4f0ff2c5e"
      },
      "execution_count": null,
      "outputs": [
        {
          "output_type": "stream",
          "name": "stdout",
          "text": [
            "--2024-09-03 20:32:37--  https://image-net.org/data/ILSVRC/2012/ILSVRC2012_img_train.tar\n",
            "Resolving image-net.org (image-net.org)... 171.64.68.16\n",
            "Connecting to image-net.org (image-net.org)|171.64.68.16|:443... connected.\n",
            "HTTP request sent, awaiting response... 200 OK\n",
            "Length: 147897477120 (138G) [application/x-tar]\n",
            "Saving to: ‘./data/ILSVRC2012_img_train.tar’\n",
            "\n",
            "ILSVRC2012_img_trai   0%[                    ]  39.73M   714KB/s    eta 3d 7h  ^C\n"
          ]
        }
      ]
    },
    {
      "cell_type": "code",
      "source": [
        "#Imagenet é grande demais, Imagenette é um subset com 10 classes.\n",
        "trainset = torchvision.datasets.Imagenette(root='./data', split=\"train\", transform =transform,\n",
        "                                         download=False)\n",
        "trainloader = torch.utils.data.DataLoader(trainset, batch_size=32,\n",
        "                                          shuffle=True, num_workers=2)"
      ],
      "metadata": {
        "id": "-xkThrm4HT4c"
      },
      "execution_count": null,
      "outputs": []
    },
    {
      "cell_type": "code",
      "source": [
        "testset = torchvision.datasets.Imagenette(root='./data', split=\"val\", transform =transform,\n",
        "                                       download=False)\n",
        "testloader = torch.utils.data.DataLoader(testset, batch_size=32,\n",
        "                                         shuffle=True, num_workers=2)"
      ],
      "metadata": {
        "id": "LLc7tUuwJ4oW"
      },
      "execution_count": null,
      "outputs": []
    },
    {
      "cell_type": "code",
      "source": [
        "trainset"
      ],
      "metadata": {
        "colab": {
          "base_uri": "https://localhost:8080/"
        },
        "id": "0dUy2FsYnEcV",
        "outputId": "a00ffa2d-afe3-4ce8-cd56-7f2d5eb34661"
      },
      "execution_count": null,
      "outputs": [
        {
          "output_type": "execute_result",
          "data": {
            "text/plain": [
              "Dataset Imagenette\n",
              "    Number of datapoints: 9469\n",
              "    Root location: ./data\n",
              "    StandardTransform\n",
              "Transform: Compose(\n",
              "               Resize(size=(224, 224), interpolation=bilinear, max_size=None, antialias=True)\n",
              "               ToTensor()\n",
              "               Normalize(mean=[0.485, 0.456, 0.406], std=[0.229, 0.224, 0.225])\n",
              "           )"
            ]
          },
          "metadata": {},
          "execution_count": 35
        }
      ]
    },
    {
      "cell_type": "markdown",
      "source": [
        "## AlexNet"
      ],
      "metadata": {
        "id": "RDpQFOVgYK7G"
      }
    },
    {
      "cell_type": "markdown",
      "source": [
        "![image.png](data:image/png;base64,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)"
      ],
      "metadata": {
        "id": "49iPtXO3HArv"
      }
    },
    {
      "cell_type": "code",
      "source": [
        "class Alexnet(nn.Module):\n",
        "  def __init__(self):\n",
        "    super(Alexnet, self).__init__()\n",
        "    self.c1 = torch.nn.Conv2d(3,96,11,stride=4, padding=3)\n",
        "    # self.c1 = torch.nn.Conv2d(3,96,11,stride=4)\n",
        "    self.s2 = nn.MaxPool2d(3, stride=2)\n",
        "    self.c3 = torch.nn.Conv2d(96,256,5)\n",
        "    self.s4 = nn.MaxPool2d(3, stride=2)\n",
        "    self.c5 = torch.nn.Conv2d(256,384,3)\n",
        "    self.c6 = torch.nn.Conv2d(384,384,3)\n",
        "    self.c7 = torch.nn.Conv2d(384,256,3)\n",
        "    self.fc8 = torch.nn.Linear(6400, 4096)\n",
        "    self.fc9 = torch.nn.Linear(4096, 4096)\n",
        "    self.out = torch.nn.Linear(4096, 10)\n",
        "\n",
        "  def forward(self, x):\n",
        "    x = self.s2(F.local_response_norm(F.relu(self.c1(x)), size=2, alpha=0.00002, beta=0.75, k=1.0))\n",
        "    x = self.s4(F.local_response_norm(F.relu(self.c3(x)), size=2, alpha=0.00002, beta=0.75, k=1.0))\n",
        "    x = F.relu(self.c5(x))\n",
        "    x = F.relu(self.c6(x))\n",
        "    x = F.relu(self.c7(x))\n",
        "    x = x.view(-1, self.num_flat_features(x))\n",
        "    x = F.relu(self.fc8(x))\n",
        "    if self.training == True:\n",
        "      x = F.dropout(x, p=0.5)\n",
        "    x = F.relu(self.fc9(x))\n",
        "    if self.training == True:\n",
        "      x = F.dropout(x, p=0.5)\n",
        "    x = F.softmax(self.out(x))\n",
        "    return x\n",
        "\n",
        "  def num_flat_features(self, x):\n",
        "    size = x.size()[1:]\n",
        "    num_features = 1\n",
        "    for s in size:\n",
        "      num_features *= s\n",
        "    return num_features\n",
        "\n",
        "alexnet = Alexnet()\n",
        "device = torch.device(\"cuda:0\" if torch.cuda.is_available() else \"cpu\")\n",
        "alexnet.to(device)"
      ],
      "metadata": {
        "colab": {
          "base_uri": "https://localhost:8080/"
        },
        "id": "Cg0hHi9vG6o5",
        "outputId": "cb2f49a1-8354-4cbb-f247-914a96275f15"
      },
      "execution_count": null,
      "outputs": [
        {
          "output_type": "execute_result",
          "data": {
            "text/plain": [
              "Alexnet(\n",
              "  (c1): Conv2d(3, 96, kernel_size=(11, 11), stride=(4, 4), padding=(3, 3))\n",
              "  (s2): MaxPool2d(kernel_size=3, stride=2, padding=0, dilation=1, ceil_mode=False)\n",
              "  (c3): Conv2d(96, 256, kernel_size=(5, 5), stride=(1, 1))\n",
              "  (s4): MaxPool2d(kernel_size=3, stride=2, padding=0, dilation=1, ceil_mode=False)\n",
              "  (c5): Conv2d(256, 384, kernel_size=(3, 3), stride=(1, 1))\n",
              "  (c6): Conv2d(384, 384, kernel_size=(3, 3), stride=(1, 1))\n",
              "  (c7): Conv2d(384, 256, kernel_size=(3, 3), stride=(1, 1))\n",
              "  (fc8): Linear(in_features=6400, out_features=4096, bias=True)\n",
              "  (fc9): Linear(in_features=4096, out_features=4096, bias=True)\n",
              "  (out): Linear(in_features=4096, out_features=10, bias=True)\n",
              ")"
            ]
          },
          "metadata": {},
          "execution_count": 47
        }
      ]
    },
    {
      "cell_type": "code",
      "source": [
        "criterion = nn.CrossEntropyLoss()"
      ],
      "metadata": {
        "id": "BhAW8LdCs5PL"
      },
      "execution_count": null,
      "outputs": []
    },
    {
      "cell_type": "code",
      "source": [
        "# Optimizers specified in the torch.optim package\n",
        "optimizer = torch.optim.SGD(alexnet.parameters(), lr=0.02, momentum=0.9)"
      ],
      "metadata": {
        "id": "4Op9KOMgJkTK"
      },
      "execution_count": null,
      "outputs": []
    },
    {
      "cell_type": "code",
      "source": [
        "import pandas as pd"
      ],
      "metadata": {
        "id": "HBJV8eiQ8l87"
      },
      "execution_count": null,
      "outputs": []
    },
    {
      "cell_type": "code",
      "source": [
        "# @title Texto de título padrão\n",
        "loss_list = []\n",
        "\n",
        "for epoch in range(15):\n",
        "  running_loss = 0.0\n",
        "\n",
        "  for i, data in enumerate(trainloader):\n",
        "\n",
        "    # inputs, labels = data[0].to(device), data[1].to(device)\n",
        "    inputs, labels = data\n",
        "    inputs = inputs.to(device)\n",
        "    labels = labels.to(device)\n",
        "\n",
        "    # print(f\"Batch {i+1}: First Input Value - {inputs[0][0][0][0].item()} First Label - {labels[0].item()} \")\n",
        "\n",
        "    optimizer.zero_grad()\n",
        "\n",
        "    outputs = alexnet(inputs)\n",
        "    # print(outputs[0][0].item())\n",
        "    loss = criterion(outputs, labels)\n",
        "    loss.backward()\n",
        "    optimizer.step()\n",
        "\n",
        "    running_loss += loss.item()\n",
        "    # print(running_loss)\n",
        "    # print(running_loss)\n",
        "    if i % 100 == 99:\n",
        "      loss_list.append(running_loss / 100)\n",
        "      print('[%d, %5d] loss: %.3f' % (epoch + 1, i + 1, running_loss / 100))\n",
        "      running_loss = 0.0\n",
        "\n",
        "\n",
        "print('Finished Training')"
      ],
      "metadata": {
        "colab": {
          "base_uri": "https://localhost:8080/"
        },
        "id": "M-bLSsAVJqHg",
        "outputId": "4cb0ccbc-fb60-4042-c608-0a5c08711b0b"
      },
      "execution_count": null,
      "outputs": [
        {
          "output_type": "stream",
          "name": "stderr",
          "text": [
            "<ipython-input-47-e3085b329795>:29: UserWarning: Implicit dimension choice for softmax has been deprecated. Change the call to include dim=X as an argument.\n",
            "  x = F.softmax(self.out(x))\n"
          ]
        },
        {
          "output_type": "stream",
          "name": "stdout",
          "text": [
            "[1,   100] loss: 2.303\n",
            "[1,   200] loss: 2.302\n",
            "[2,   100] loss: 2.289\n",
            "[2,   200] loss: 2.251\n",
            "[3,   100] loss: 2.280\n",
            "[3,   200] loss: 2.261\n",
            "[4,   100] loss: 2.256\n",
            "[4,   200] loss: 2.252\n",
            "[5,   100] loss: 2.188\n",
            "[5,   200] loss: 2.282\n",
            "[6,   100] loss: 2.250\n",
            "[6,   200] loss: 2.246\n",
            "[7,   100] loss: 2.345\n",
            "[7,   200] loss: 2.318\n",
            "[8,   100] loss: 2.358\n",
            "[8,   200] loss: 2.361\n",
            "[9,   100] loss: 2.354\n",
            "[9,   200] loss: 2.366\n",
            "[10,   100] loss: 2.357\n",
            "[10,   200] loss: 2.365\n",
            "[11,   100] loss: 2.363\n",
            "[11,   200] loss: 2.366\n",
            "[12,   100] loss: 2.370\n",
            "[12,   200] loss: 2.353\n",
            "[13,   100] loss: 2.361\n",
            "[13,   200] loss: 2.354\n",
            "[14,   100] loss: 2.352\n",
            "[14,   200] loss: 2.366\n",
            "[15,   100] loss: 2.363\n",
            "[15,   200] loss: 2.358\n",
            "Finished Training\n"
          ]
        }
      ]
    },
    {
      "cell_type": "code",
      "source": [
        "correct = 0\n",
        "total = 0\n",
        "\n",
        "with torch.no_grad(): # since we're not training, we don't need to calculate the gradients for our outputs\n",
        "    for data in testloader:\n",
        "        images, labels = data[0].to(device), data[1].to(device)\n",
        "\n",
        "        outputs = alexnet(images) # calculate outputs by running images through the network\n",
        "\n",
        "        _, predicted = torch.max(outputs.data, 1) # the class with the highest energy is what we choose as prediction\n",
        "        total += labels.size(0)\n",
        "        correct += (predicted == labels).sum().item()\n",
        "\n",
        "print(f'Accuracy of the network on the test images: {100 * correct // total} %')"
      ],
      "metadata": {
        "colab": {
          "base_uri": "https://localhost:8080/"
        },
        "id": "q-RU5BJotc2J",
        "outputId": "7a65cc85-716b-4de2-9cd1-287ab9a7b30c"
      },
      "execution_count": null,
      "outputs": [
        {
          "output_type": "stream",
          "name": "stderr",
          "text": [
            "<ipython-input-47-e3085b329795>:29: UserWarning: Implicit dimension choice for softmax has been deprecated. Change the call to include dim=X as an argument.\n",
            "  x = F.softmax(self.out(x))\n"
          ]
        },
        {
          "output_type": "stream",
          "name": "stdout",
          "text": [
            "Accuracy of the network on the test images: 9 %\n"
          ]
        }
      ]
    },
    {
      "cell_type": "markdown",
      "source": [
        "## GoogLeNet"
      ],
      "metadata": {
        "id": "ZMozCijcCbLh"
      }
    },
    {
      "cell_type": "code",
      "source": [],
      "metadata": {
        "id": "AJ1zQyoACao3"
      },
      "execution_count": null,
      "outputs": []
    }
  ]
}