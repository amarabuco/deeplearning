{
  "nbformat": 4,
  "nbformat_minor": 0,
  "metadata": {
    "colab": {
      "provenance": [],
      "gpuType": "T4",
      "authorship_tag": "ABX9TyNX/Jr0bF5IBlqIpLhQ0t1P",
      "include_colab_link": true
    },
    "kernelspec": {
      "name": "python3",
      "display_name": "Python 3"
    },
    "language_info": {
      "name": "python"
    },
    "accelerator": "GPU"
  },
  "cells": [
    {
      "cell_type": "markdown",
      "metadata": {
        "id": "view-in-github",
        "colab_type": "text"
      },
      "source": [
        "<a href=\"https://colab.research.google.com/github/amarabuco/deeplearning-2024.2/blob/main/Aula_3_Convolutional_Neural_Networks.ipynb\" target=\"_parent\"><img src=\"https://colab.research.google.com/assets/colab-badge.svg\" alt=\"Open In Colab\"/></a>"
      ]
    },
    {
      "cell_type": "markdown",
      "source": [
        "# Classificação imagens"
      ],
      "metadata": {
        "id": "S3kxVuffMKOz"
      }
    },
    {
      "cell_type": "code",
      "source": [
        "import torch\n",
        "import torch.nn as nn\n",
        "import torch.nn.functional as F\n",
        "import torchvision\n",
        "import torch.optim as optim\n",
        "import torchvision.transforms as transforms"
      ],
      "metadata": {
        "id": "1UHn8v17uTG9"
      },
      "execution_count": 1,
      "outputs": []
    },
    {
      "cell_type": "code",
      "source": [
        "transform = transforms.Compose(\n",
        "    [transforms.ToTensor(),\n",
        "    transforms.Normalize((0.5,), (0.5,))])"
      ],
      "metadata": {
        "id": "2blfXo_JJuBb"
      },
      "execution_count": 2,
      "outputs": []
    },
    {
      "cell_type": "code",
      "source": [
        "trainset = torchvision.datasets.MNIST(root='./data', train=True,  transform=transform,\n",
        "                                        download=True)\n",
        "trainloader = torch.utils.data.DataLoader(trainset, batch_size=16,\n",
        "                                          shuffle=True, num_workers=2)"
      ],
      "metadata": {
        "id": "Mi5YP0IKJhZ_"
      },
      "execution_count": 3,
      "outputs": []
    },
    {
      "cell_type": "code",
      "source": [
        "testset = torchvision.datasets.MNIST(root='./data', train=False, transform=transform,\n",
        "                                       download=True)\n",
        "testloader = torch.utils.data.DataLoader(testset, batch_size=16,\n",
        "                                         shuffle=False, num_workers=2)"
      ],
      "metadata": {
        "id": "aYSEqtF0JpCn"
      },
      "execution_count": 4,
      "outputs": []
    },
    {
      "cell_type": "code",
      "source": [
        "trainset.data[0].shape"
      ],
      "metadata": {
        "colab": {
          "base_uri": "https://localhost:8080/"
        },
        "id": "z8bO9-4jLX6-",
        "outputId": "908502d1-bb1f-4edf-e90b-0df5289f366e"
      },
      "execution_count": 5,
      "outputs": [
        {
          "output_type": "execute_result",
          "data": {
            "text/plain": [
              "torch.Size([28, 28])"
            ]
          },
          "metadata": {},
          "execution_count": 5
        }
      ]
    },
    {
      "cell_type": "code",
      "source": [
        "trainset.data.shape"
      ],
      "metadata": {
        "colab": {
          "base_uri": "https://localhost:8080/"
        },
        "id": "yzVcLTvpLMqA",
        "outputId": "e44be773-62bd-47ec-9c9b-23d8abde8d1f"
      },
      "execution_count": 6,
      "outputs": [
        {
          "output_type": "execute_result",
          "data": {
            "text/plain": [
              "torch.Size([60000, 28, 28])"
            ]
          },
          "metadata": {},
          "execution_count": 6
        }
      ]
    },
    {
      "cell_type": "code",
      "source": [
        "import matplotlib.pyplot as plt\n",
        "import numpy as np"
      ],
      "metadata": {
        "id": "zqnLHL9zKoZA"
      },
      "execution_count": 7,
      "outputs": []
    },
    {
      "cell_type": "code",
      "source": [
        "# Helper function for inline image display\n",
        "def matplotlib_imshow(img, one_channel=False):\n",
        "    if one_channel:\n",
        "        img = img.mean(dim=0)\n",
        "    img = img / 2 + 0.5     # unnormalize\n",
        "    npimg = img.numpy()\n",
        "    if one_channel:\n",
        "        plt.imshow(npimg, cmap=\"Greys\")\n",
        "    else:\n",
        "        plt.imshow(np.transpose(npimg, (1, 2, 0)))"
      ],
      "metadata": {
        "id": "NW56DaTQ7eQ8"
      },
      "execution_count": 8,
      "outputs": []
    },
    {
      "cell_type": "code",
      "source": [
        "dataiter = iter(trainloader)\n",
        "images, labels = next(dataiter)"
      ],
      "metadata": {
        "id": "tMlsEnqD7hTe"
      },
      "execution_count": 9,
      "outputs": []
    },
    {
      "cell_type": "code",
      "source": [
        "# Create a grid from the images and show them\n",
        "img_grid = torchvision.utils.make_grid(images)\n",
        "matplotlib_imshow(img_grid, one_channel=True)\n",
        "print('  '.join(trainset.classes[labels[j]] for j in range(4)))"
      ],
      "metadata": {
        "colab": {
          "base_uri": "https://localhost:8080/",
          "height": 209
        },
        "id": "xfROtDeg71z7",
        "outputId": "3bbb34a3-f68e-460d-9af1-66582b1b0f95"
      },
      "execution_count": 10,
      "outputs": [
        {
          "output_type": "stream",
          "name": "stdout",
          "text": [
            "8 - eight  7 - seven  7 - seven  4 - four\n"
          ]
        },
        {
          "output_type": "display_data",
          "data": {
            "text/plain": [
              "<Figure size 640x480 with 1 Axes>"
            ],
            "image/png": "[encoded data removed]"
          },
          "metadata": {}
        }
      ]
    },
    {
      "cell_type": "markdown",
      "source": [
        "##  MLP"
      ],
      "metadata": {
        "id": "XE_ckZP67-n1"
      }
    },
    {
      "cell_type": "code",
      "source": [
        "class MLP(nn.Module):\n",
        "  def __init__(self):\n",
        "    super(MLP, self).__init__()\n",
        "    self.fc1 = nn.Linear(28*28, 512)\n",
        "    self.fc2 = nn.Linear(512, 1024)\n",
        "    self.fc3 = nn.Linear(1024, 10)\n",
        "\n",
        "  def forward(self, x):\n",
        "    x = x.view(-1, 28*28)\n",
        "    x = F.relu(self.fc1(x))\n",
        "    x = F.relu(self.fc2(x))\n",
        "    x = F.softmax(self.fc3(x))\n",
        "    return x"
      ],
      "metadata": {
        "id": "Wu8sH6vHKIJa"
      },
      "execution_count": 11,
      "outputs": []
    },
    {
      "cell_type": "code",
      "source": [
        "mlp = MLP()"
      ],
      "metadata": {
        "id": "QvgtjZjxMp2X"
      },
      "execution_count": 12,
      "outputs": []
    },
    {
      "cell_type": "code",
      "source": [
        "device = torch.device(\"cuda:0\" if torch.cuda.is_available() else \"cpu\")"
      ],
      "metadata": {
        "id": "gwQsbD8fONu9"
      },
      "execution_count": 13,
      "outputs": []
    },
    {
      "cell_type": "code",
      "source": [
        "criterion = nn.CrossEntropyLoss()"
      ],
      "metadata": {
        "id": "YGmnS-e3NHg3"
      },
      "execution_count": 14,
      "outputs": []
    },
    {
      "cell_type": "code",
      "source": [
        "optimizer = optim.SGD(mlp.parameters(), lr=0.001, momentum=0.9)"
      ],
      "metadata": {
        "id": "9DBEB8gLMvz3"
      },
      "execution_count": 15,
      "outputs": []
    },
    {
      "cell_type": "code",
      "source": [
        "mlp.to(device)"
      ],
      "metadata": {
        "colab": {
          "base_uri": "https://localhost:8080/"
        },
        "id": "yIbbGejlRZsV",
        "outputId": "f8e95d50-2475-416a-8e6e-8bc610437e62"
      },
      "execution_count": 16,
      "outputs": [
        {
          "output_type": "execute_result",
          "data": {
            "text/plain": [
              "MLP(\n",
              "  (fc1): Linear(in_features=784, out_features=512, bias=True)\n",
              "  (fc2): Linear(in_features=512, out_features=1024, bias=True)\n",
              "  (fc3): Linear(in_features=1024, out_features=10, bias=True)\n",
              ")"
            ]
          },
          "metadata": {},
          "execution_count": 16
        }
      ]
    },
    {
      "cell_type": "code",
      "source": [
        "loss_list = []\n",
        "stop = 0\n",
        "for epoch in range(3):\n",
        "  running_loss = 0.0\n",
        "  # if stop == 1:\n",
        "  #   break\n",
        "\n",
        "  for i, data in enumerate(trainloader, 0):\n",
        "\n",
        "    inputs, labels = data\n",
        "    inputs = inputs.to(device)\n",
        "    labels = labels.to(device)\n",
        "\n",
        "    optimizer.zero_grad()\n",
        "\n",
        "    outputs = mlp(inputs)\n",
        "    loss = criterion(outputs, labels)\n",
        "    loss.backward()\n",
        "    optimizer.step()\n",
        "\n",
        "    running_loss += loss.item()\n",
        "    if i % 2000 == 1999:\n",
        "      loss_list.append(running_loss / 2000)\n",
        "      print('[%d, %5d] loss: %.3f' % (epoch + 1, i + 1, running_loss / 2000))\n",
        "      running_loss = 0.0\n",
        "\n",
        "      # if (len(loss_list) > 2) and (loss_list[-1] > loss_list[-2]):\n",
        "      #   stop = 1\n",
        "      #   break\n",
        "\n",
        "\n",
        "print('Finished Training')"
      ],
      "metadata": {
        "colab": {
          "base_uri": "https://localhost:8080/"
        },
        "id": "3ecOd6PkM9ur",
        "outputId": "e2bbec4b-ca90-47b4-eaf6-5a747009048c"
      },
      "execution_count": 17,
      "outputs": [
        {
          "output_type": "stream",
          "name": "stderr",
          "text": [
            "<ipython-input-11-4d81d8b1e14c>:12: UserWarning: Implicit dimension choice for softmax has been deprecated. Change the call to include dim=X as an argument.\n",
            "  x = F.softmax(self.fc3(x))\n"
          ]
        },
        {
          "output_type": "stream",
          "name": "stdout",
          "text": [
            "[1,  2000] loss: 2.115\n",
            "[2,  2000] loss: 1.657\n",
            "[3,  2000] loss: 1.631\n",
            "Finished Training\n"
          ]
        }
      ]
    },
    {
      "cell_type": "code",
      "source": [
        "correct = 0\n",
        "total = 0\n",
        "\n",
        "with torch.no_grad(): # since we're not training, we don't need to calculate the gradients for our outputs\n",
        "    for data in testloader:\n",
        "        images, labels = data[0].to(device), data[1].to(device)\n",
        "\n",
        "        outputs = mlp(images) # calculate outputs by running images through the network\n",
        "\n",
        "        _, predicted = torch.max(outputs.data, 1) # the class with the highest energy is what we choose as prediction\n",
        "        total += labels.size(0)\n",
        "        correct += (predicted == labels).sum().item()\n",
        "\n",
        "print(f'Accuracy of the network on the test images: {100 * correct // total} %')"
      ],
      "metadata": {
        "colab": {
          "base_uri": "https://localhost:8080/"
        },
        "id": "JEcLr1sNPMt4",
        "outputId": "27e25db5-c17b-4bd1-d0df-186ea2557514"
      },
      "execution_count": 18,
      "outputs": [
        {
          "output_type": "stream",
          "name": "stderr",
          "text": [
            "<ipython-input-11-4d81d8b1e14c>:12: UserWarning: Implicit dimension choice for softmax has been deprecated. Change the call to include dim=X as an argument.\n",
            "  x = F.softmax(self.fc3(x))\n"
          ]
        },
        {
          "output_type": "stream",
          "name": "stdout",
          "text": [
            "Accuracy of the network on the test images: 85 %\n"
          ]
        }
      ]
    },
    {
      "cell_type": "code",
      "source": [
        "# prepare to count predictions for each class\n",
        "correct_pred = {classname: 0 for classname in trainset.classes}\n",
        "total_pred = {classname: 0 for classname in trainset.classes}\n",
        "\n",
        "\n",
        "with torch.no_grad(): # again no gradients needed\n",
        "    for data in testloader:\n",
        "\n",
        "        images, labels = data[0].to(device), data[1].to(device)\n",
        "        outputs = mlp(images)\n",
        "        _, predictions = torch.max(outputs, 1)\n",
        "        # collect the correct predictions for each class\n",
        "        for label, prediction in zip(labels, predictions):\n",
        "            if label == prediction:\n",
        "                correct_pred[trainset.classes[label]] += 1\n",
        "            total_pred[trainset.classes[label]] += 1\n",
        "\n",
        "\n",
        "# print accuracy for each class\n",
        "for classname, correct_count in correct_pred.items():\n",
        "    accuracy = 100 * float(correct_count) / total_pred[classname]\n",
        "    print(f'Accuracy for class: {classname:5s} is {accuracy:.1f} %')"
      ],
      "metadata": {
        "colab": {
          "base_uri": "https://localhost:8080/"
        },
        "id": "FdZYgUyXP87k",
        "outputId": "2aa31311-8745-453e-a0bb-f8631ef1165e"
      },
      "execution_count": 19,
      "outputs": [
        {
          "output_type": "stream",
          "name": "stderr",
          "text": [
            "<ipython-input-11-4d81d8b1e14c>:12: UserWarning: Implicit dimension choice for softmax has been deprecated. Change the call to include dim=X as an argument.\n",
            "  x = F.softmax(self.fc3(x))\n"
          ]
        },
        {
          "output_type": "stream",
          "name": "stdout",
          "text": [
            "Accuracy for class: 0 - zero is 98.5 %\n",
            "Accuracy for class: 1 - one is 97.9 %\n",
            "Accuracy for class: 2 - two is 90.9 %\n",
            "Accuracy for class: 3 - three is 92.7 %\n",
            "Accuracy for class: 4 - four is 92.7 %\n",
            "Accuracy for class: 5 - five is 0.0 %\n",
            "Accuracy for class: 6 - six is 95.9 %\n",
            "Accuracy for class: 7 - seven is 92.8 %\n",
            "Accuracy for class: 8 - eight is 88.1 %\n",
            "Accuracy for class: 9 - nine is 90.9 %\n"
          ]
        }
      ]
    },
    {
      "cell_type": "markdown",
      "source": [
        "### Lenet"
      ],
      "metadata": {
        "id": "c-TQaddSQafd"
      }
    },
    {
      "cell_type": "markdown",
      "source": [
        "https://yann.lecun.com/exdb/publis/pdf/lecun-98.pdf"
      ],
      "metadata": {
        "id": "f2VkIQOcQ9AN"
      }
    },
    {
      "cell_type": "markdown",
      "source": [
        "![image.png](data:image/png;base64,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)"
      ],
      "metadata": {
        "id": "koSmb7BX-Jat"
      }
    },
    {
      "cell_type": "code",
      "source": [
        "class Lenet(nn.Module):\n",
        "  def __init__(self):\n",
        "    super(Lenet, self).__init__()\n",
        "    #1 input image channel (black & white), 6 outputs channels, 3x3 square convolution kernel\n",
        "    self.conv1 = torch.nn.Conv2d(1,6,5, padding=2)\n",
        "    self.conv2 = torch.nn.Conv2d(6,16,3)\n",
        "    # an affine operation: y = Wx + b\n",
        "    self.fc1 = torch.nn.Linear(16*6*6, 120)\n",
        "    self.fc2 = torch.nn.Linear(120, 84)\n",
        "    self.fc3 = torch.nn.Linear(84, 10)\n",
        "\n",
        "  def forward(self, x):\n",
        "    # Max pooling over a (2, 2) window\n",
        "    x = F.max_pool2d(F.relu(self.conv1(x)), (2, 2))\n",
        "    # If the size is a square you can only specify a single number\n",
        "    x = F.max_pool2d(F.relu(self.conv2(x)), 2)\n",
        "    x = x.view(-1, self.num_flat_features(x))\n",
        "    x = F.relu(self.fc1(x))\n",
        "    x = F.relu(self.fc2(x))\n",
        "    x = self.fc3(x)\n",
        "    return x\n",
        "\n",
        "  def num_flat_features(self, x):\n",
        "    size = x.size()[1:]\n",
        "    num_features = 1\n",
        "    for s in size:\n",
        "      num_features *= s\n",
        "    return num_features\n",
        "\n",
        "lenet = Lenet()\n",
        "lenet.to(device)"
      ],
      "metadata": {
        "colab": {
          "base_uri": "https://localhost:8080/"
        },
        "id": "XuSZf1pz9kN8",
        "outputId": "9149b5fb-c2bf-472f-8a62-0c8c40ca9ddd"
      },
      "execution_count": 20,
      "outputs": [
        {
          "output_type": "execute_result",
          "data": {
            "text/plain": [
              "Lenet(\n",
              "  (conv1): Conv2d(1, 6, kernel_size=(5, 5), stride=(1, 1), padding=(2, 2))\n",
              "  (conv2): Conv2d(6, 16, kernel_size=(3, 3), stride=(1, 1))\n",
              "  (fc1): Linear(in_features=576, out_features=120, bias=True)\n",
              "  (fc2): Linear(in_features=120, out_features=84, bias=True)\n",
              "  (fc3): Linear(in_features=84, out_features=10, bias=True)\n",
              ")"
            ]
          },
          "metadata": {},
          "execution_count": 20
        }
      ]
    },
    {
      "cell_type": "code",
      "source": [
        "# class MyLenet(nn.Module):\n",
        "#   def __init__(self):\n",
        "#     super(Lenet, self).__init__()\n",
        "#     self.conv1 = nn.Conv2d(in_channels=1, out_channels=6, kernel_size=5, stride=1, padding=0, padding_mode='zeros', dilation=1, groups=1, bias=True)\n",
        "#     self.pool = nn.MaxPool2d(2, 2)\n",
        "#     self.conv2 = nn.Conv2d(in_channels=6, out_channels=16, kernel_size=5, stride=1, padding=0, padding_mode='zeros', dilation=1, groups=1, bias=True)\n",
        "#     self.fc1 = nn.Linear(120,84)\n",
        "#     self.fc2 = nn.Linear(84,10)\n",
        "\n",
        "#   def forward(self, x):\n",
        "#     x = self.pool(F.relu(self.conv1(x)))\n",
        "#     x = self.pool(F.relu(self.conv2(x)))\n",
        "#     x = x.view(x.size(0), -1)  # Dynamically calculate the flattened size\n",
        "#     x = F.relu(self.fc1(x))\n",
        "#     x = self.fc2(x)\n",
        "#     return x\n",
        "\n",
        "# lenet = Lenet()"
      ],
      "metadata": {
        "id": "mN6cZV0vUbPH"
      },
      "execution_count": 21,
      "outputs": []
    },
    {
      "cell_type": "code",
      "source": [],
      "metadata": {
        "id": "WWzlP_GxO8wB"
      },
      "execution_count": 21,
      "outputs": []
    },
    {
      "cell_type": "code",
      "source": [],
      "metadata": {
        "id": "hlhlNG1_QHOx"
      },
      "execution_count": 21,
      "outputs": []
    },
    {
      "cell_type": "code",
      "source": [
        "# criterion = nn.MSELoss()\n",
        "criterion = nn.CrossEntropyLoss()"
      ],
      "metadata": {
        "id": "kwWZfKTeaPl6"
      },
      "execution_count": 22,
      "outputs": []
    },
    {
      "cell_type": "code",
      "source": [
        "# Optimizers specified in the torch.optim package\n",
        "optimizer2 = torch.optim.SGD(lenet.parameters(), lr=0.001, momentum=0.9)"
      ],
      "metadata": {
        "id": "8Q6Y0S1QaV8V"
      },
      "execution_count": 23,
      "outputs": []
    },
    {
      "cell_type": "code",
      "source": [
        "loss_list = []\n",
        "stop = 0\n",
        "for epoch in range(3):\n",
        "  running_loss = 0.0\n",
        "  # if stop == 1:\n",
        "  #   break\n",
        "\n",
        "  for i, data in enumerate(trainloader, 0):\n",
        "\n",
        "    # inputs, labels = data\n",
        "    inputs, labels = data[0].to(device), data[1].to(device)\n",
        "    # inputs = inputs.to(device)\n",
        "    # labels = labels.to(device)\n",
        "\n",
        "    optimizer2.zero_grad()\n",
        "\n",
        "    outputs = lenet(inputs)\n",
        "    loss = criterion(outputs, labels)\n",
        "    loss.backward()\n",
        "    optimizer2.step()\n",
        "\n",
        "    running_loss += loss.item()\n",
        "    if i % 2000 == 1999:\n",
        "      loss_list.append(running_loss / 2000)\n",
        "      print('[%d, %5d] loss: %.3f' % (epoch + 1, i + 1, running_loss / 2000))\n",
        "      running_loss = 0.0\n",
        "\n",
        "    # if loss_list[-1] > loss_list[-2]:\n",
        "    #   stop = 1\n",
        "    #   break\n",
        "\n",
        "\n",
        "print('Finished Training')"
      ],
      "metadata": {
        "colab": {
          "base_uri": "https://localhost:8080/"
        },
        "id": "LF7zCN4eaZn0",
        "outputId": "e257e123-6d0f-46d9-ff10-db647a0ca300"
      },
      "execution_count": 24,
      "outputs": [
        {
          "output_type": "stream",
          "name": "stdout",
          "text": [
            "[1,  2000] loss: 1.037\n",
            "[2,  2000] loss: 0.114\n",
            "[3,  2000] loss: 0.075\n",
            "Finished Training\n"
          ]
        }
      ]
    },
    {
      "cell_type": "code",
      "source": [
        "correct = 0\n",
        "total = 0\n",
        "\n",
        "with torch.no_grad(): # since we're not training, we don't need to calculate the gradients for our outputs\n",
        "    for data in testloader:\n",
        "        images, labels = data[0].to(device), data[1].to(device)\n",
        "\n",
        "        outputs = lenet(images) # calculate outputs by running images through the network\n",
        "\n",
        "        _, predicted = torch.max(outputs.data, 1) # the class with the highest energy is what we choose as prediction\n",
        "        total += labels.size(0)\n",
        "        correct += (predicted == labels).sum().item()\n",
        "\n",
        "print(f'Accuracy of the network on the test images: {100 * correct // total} %')"
      ],
      "metadata": {
        "colab": {
          "base_uri": "https://localhost:8080/"
        },
        "id": "a9rWImISTx_d",
        "outputId": "49d94716-17b2-49f4-cf23-aaafa51651ae"
      },
      "execution_count": 25,
      "outputs": [
        {
          "output_type": "stream",
          "name": "stdout",
          "text": [
            "Accuracy of the network on the test images: 98 %\n"
          ]
        }
      ]
    },
    {
      "cell_type": "markdown",
      "source": [],
      "metadata": {
        "id": "RDpQFOVgYK7G"
      }
    }
  ]
}