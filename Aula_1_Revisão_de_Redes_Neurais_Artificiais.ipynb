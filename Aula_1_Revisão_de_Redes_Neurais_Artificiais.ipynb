{
  "nbformat": 4,
  "nbformat_minor": 0,
  "metadata": {
    "colab": {
      "provenance": [],
      "authorship_tag": "ABX9TyMdX6Vg5oVewUoWRYhJHgqh",
      "include_colab_link": true
    },
    "kernelspec": {
      "name": "python3",
      "display_name": "Python 3"
    },
    "language_info": {
      "name": "python"
    }
  },
  "cells": [
    {
      "cell_type": "markdown",
      "metadata": {
        "id": "view-in-github",
        "colab_type": "text"
      },
      "source": [
        "<a href=\"https://colab.research.google.com/github/amarabuco/deeplearning-2024.2/blob/main/Aula_1_Revis%C3%A3o_de_Redes_Neurais_Artificiais.ipynb\" target=\"_parent\"><img src=\"https://colab.research.google.com/assets/colab-badge.svg\" alt=\"Open In Colab\"/></a>"
      ]
    },
    {
      "cell_type": "markdown",
      "source": [
        "# Deep Learning with PyTorch: A 60 Minute Blitz\n",
        "\n",
        "https://pytorch.org/tutorials/beginner/deep_learning_60min_blitz.html"
      ],
      "metadata": {
        "id": "V-moEuCLsXZp"
      }
    },
    {
      "cell_type": "markdown",
      "source": [
        "## Tensors"
      ],
      "metadata": {
        "id": "-mCEw08OsmSl"
      }
    },
    {
      "cell_type": "code",
      "source": [
        "import torch\n",
        "import numpy as np"
      ],
      "metadata": {
        "id": "9yp8cXbYshvD"
      },
      "execution_count": null,
      "outputs": []
    },
    {
      "cell_type": "code",
      "source": [
        "data = [[1, 2],[3, 4]] # lista de listas\n",
        "data"
      ],
      "metadata": {
        "colab": {
          "base_uri": "https://localhost:8080/"
        },
        "id": "SI_-3d0-skyX",
        "outputId": "f079ca46-5721-4d7d-cd24-17b1544c3043"
      },
      "execution_count": null,
      "outputs": [
        {
          "output_type": "execute_result",
          "data": {
            "text/plain": [
              "[[1, 2], [3, 4]]"
            ]
          },
          "metadata": {},
          "execution_count": 7
        }
      ]
    },
    {
      "cell_type": "code",
      "source": [
        "x_data = torch.tensor(data) # transforma lista em tensor\n",
        "x_data"
      ],
      "metadata": {
        "colab": {
          "base_uri": "https://localhost:8080/"
        },
        "id": "hfBu3Yurstk-",
        "outputId": "b5be71eb-1b90-4b29-c7b2-94ac650ae1f0"
      },
      "execution_count": null,
      "outputs": [
        {
          "output_type": "execute_result",
          "data": {
            "text/plain": [
              "tensor([[1, 2],\n",
              "        [3, 4]])"
            ]
          },
          "metadata": {},
          "execution_count": 6
        }
      ]
    },
    {
      "cell_type": "code",
      "source": [
        "np_array = np.array(data) # numpy array\n",
        "np_array"
      ],
      "metadata": {
        "colab": {
          "base_uri": "https://localhost:8080/"
        },
        "id": "WuDL_gDAsuRH",
        "outputId": "153f5b39-3a86-4ffb-b7f9-a08f25b44465"
      },
      "execution_count": null,
      "outputs": [
        {
          "output_type": "execute_result",
          "data": {
            "text/plain": [
              "array([[1, 2],\n",
              "       [3, 4]])"
            ]
          },
          "metadata": {},
          "execution_count": 8
        }
      ]
    },
    {
      "cell_type": "code",
      "source": [
        "x_np = torch.from_numpy(np_array) # transforma np array em tensor\n",
        "x_np"
      ],
      "metadata": {
        "colab": {
          "base_uri": "https://localhost:8080/"
        },
        "id": "tf9vb9Sos1fk",
        "outputId": "965ce2c2-b428-4928-8322-99daa35ec6c1"
      },
      "execution_count": null,
      "outputs": [
        {
          "output_type": "execute_result",
          "data": {
            "text/plain": [
              "tensor([[1, 2],\n",
              "        [3, 4]])"
            ]
          },
          "metadata": {},
          "execution_count": 11
        }
      ]
    },
    {
      "cell_type": "code",
      "source": [
        "x_ones = torch.ones_like(x_data) # usa o shape do tensor modelo e cria uma matriz de 1\n",
        "x_ones"
      ],
      "metadata": {
        "colab": {
          "base_uri": "https://localhost:8080/"
        },
        "id": "9bQs4MH9s4I0",
        "outputId": "bd2ba47d-1602-4686-eef9-3b8f010c8262"
      },
      "execution_count": null,
      "outputs": [
        {
          "output_type": "execute_result",
          "data": {
            "text/plain": [
              "tensor([[1, 1],\n",
              "        [1, 1]])"
            ]
          },
          "metadata": {},
          "execution_count": 17
        }
      ]
    },
    {
      "cell_type": "code",
      "source": [
        "x_rand = torch.rand_like(x_data, dtype=torch.float) # usa o shape do tensor modelo e cria uma matriz de números aleatórios com mesmo shape, precisa para tipo de dados como float para não dar erro ao criar os números aleatórios\n",
        "x_rand\n"
      ],
      "metadata": {
        "colab": {
          "base_uri": "https://localhost:8080/"
        },
        "id": "PZvNyD96tD3L",
        "outputId": "de891a0b-32e6-4c14-b273-962bffcf8d6c"
      },
      "execution_count": null,
      "outputs": [
        {
          "output_type": "execute_result",
          "data": {
            "text/plain": [
              "tensor([[0.8161, 0.6287],\n",
              "        [0.7275, 0.4471]])"
            ]
          },
          "metadata": {},
          "execution_count": 18
        }
      ]
    },
    {
      "cell_type": "code",
      "source": [
        "shape = (2,3)\n",
        "rand_tensor = torch.rand(shape) # funções direto do torch recebem o shape e criam matrizes pré-definidas (aleatoria, uns e zeros)\n",
        "print(rand_tensor)\n",
        "ones_tensor = torch.ones(shape)\n",
        "print(ones_tensor)\n",
        "zeros_tensor = torch.zeros(shape)\n",
        "print(zeros_tensor)\n"
      ],
      "metadata": {
        "colab": {
          "base_uri": "https://localhost:8080/"
        },
        "id": "8x0bUbD3tuxM",
        "outputId": "75424278-a4fe-439b-d6be-f3a7f13c14d6"
      },
      "execution_count": null,
      "outputs": [
        {
          "output_type": "stream",
          "name": "stdout",
          "text": [
            "tensor([[0.3951, 0.6973, 0.3535],\n",
            "        [0.5808, 0.1967, 0.1507]])\n",
            "tensor([[1., 1., 1.],\n",
            "        [1., 1., 1.]])\n",
            "tensor([[0., 0., 0.],\n",
            "        [0., 0., 0.]])\n"
          ]
        }
      ]
    },
    {
      "cell_type": "code",
      "source": [
        "print(rand_tensor.shape) # ordem da matriz\n",
        "print(rand_tensor.dtype) # tipo de dado\n",
        "print(rand_tensor.device) # cpu ou gpu\n"
      ],
      "metadata": {
        "colab": {
          "base_uri": "https://localhost:8080/"
        },
        "id": "rdtpUUHyuUqy",
        "outputId": "36ebe197-bb36-4715-df33-441428366f8a"
      },
      "execution_count": null,
      "outputs": [
        {
          "output_type": "stream",
          "name": "stdout",
          "text": [
            "torch.Size([2, 3])\n",
            "torch.float32\n",
            "cpu\n"
          ]
        }
      ]
    },
    {
      "cell_type": "code",
      "source": [
        "if torch.cuda.is_available(): # checa se tem gpu, com cuda. No Colab precisa ligar gpu.\n",
        "  rand_tensor = rand_tensor.to('cuda')\n",
        "  print(f\"Device tensor is stored on: {rand_tensor.device}\")"
      ],
      "metadata": {
        "id": "ldpay8udul4g"
      },
      "execution_count": null,
      "outputs": []
    },
    {
      "cell_type": "code",
      "source": [
        "tensor = torch.rand(4,4) # gera uma matriz aleatoria 4x4\n",
        "print(tensor)\n",
        "tensor[:, 1] = 0 # transforma a segunda coluna em zeros\n",
        "print(tensor)"
      ],
      "metadata": {
        "colab": {
          "base_uri": "https://localhost:8080/"
        },
        "id": "wt6j9zbTvkPU",
        "outputId": "676d5826-24b0-4c59-d48f-62d86d24569e"
      },
      "execution_count": null,
      "outputs": [
        {
          "output_type": "stream",
          "name": "stdout",
          "text": [
            "tensor([[0.9406, 0.7610, 0.6167, 0.4194],\n",
            "        [0.3890, 0.4450, 0.6138, 0.0199],\n",
            "        [0.3356, 0.0555, 0.6080, 0.0065],\n",
            "        [0.6236, 0.9126, 0.3293, 0.1539]])\n",
            "tensor([[0.9406, 0.0000, 0.6167, 0.4194],\n",
            "        [0.3890, 0.0000, 0.6138, 0.0199],\n",
            "        [0.3356, 0.0000, 0.6080, 0.0065],\n",
            "        [0.6236, 0.0000, 0.3293, 0.1539]])\n"
          ]
        }
      ]
    },
    {
      "cell_type": "code",
      "source": [
        "t1 = torch.cat([tensor, tensor, tensor], dim=1) # Esse cat não é de gato, é de concat. Nesse caso, concatenou três cópias da matriz 4x4 gerada antes, por coluna, então virou 4x12.\n",
        "print(t1.shape)\n",
        "print(t1)"
      ],
      "metadata": {
        "colab": {
          "base_uri": "https://localhost:8080/"
        },
        "id": "jgFPcY16v-7J",
        "outputId": "f684c98b-473c-406f-fcf7-eb129fcf6728"
      },
      "execution_count": null,
      "outputs": [
        {
          "output_type": "stream",
          "name": "stdout",
          "text": [
            "torch.Size([4, 12])\n",
            "tensor([[0.9406, 0.0000, 0.6167, 0.4194, 0.9406, 0.0000, 0.6167, 0.4194, 0.9406,\n",
            "         0.0000, 0.6167, 0.4194],\n",
            "        [0.3890, 0.0000, 0.6138, 0.0199, 0.3890, 0.0000, 0.6138, 0.0199, 0.3890,\n",
            "         0.0000, 0.6138, 0.0199],\n",
            "        [0.3356, 0.0000, 0.6080, 0.0065, 0.3356, 0.0000, 0.6080, 0.0065, 0.3356,\n",
            "         0.0000, 0.6080, 0.0065],\n",
            "        [0.6236, 0.0000, 0.3293, 0.1539, 0.6236, 0.0000, 0.3293, 0.1539, 0.6236,\n",
            "         0.0000, 0.3293, 0.1539]])\n"
          ]
        }
      ]
    },
    {
      "cell_type": "code",
      "source": [
        "m1 = tensor.mul(tensor) # não é mula, é MULtiplicação de matrizes\n",
        "m2 = tensor * tensor # tb vale multiplicar como python, sem usar método do objeto tensor\n",
        "print(m1 == m2)\n",
        "print(m1)"
      ],
      "metadata": {
        "colab": {
          "base_uri": "https://localhost:8080/"
        },
        "id": "PGjxRQSLxPzg",
        "outputId": "a4ae2189-31f5-4874-c504-04d65638430a"
      },
      "execution_count": null,
      "outputs": [
        {
          "output_type": "stream",
          "name": "stdout",
          "text": [
            "tensor([[True, True, True, True],\n",
            "        [True, True, True, True],\n",
            "        [True, True, True, True],\n",
            "        [True, True, True, True]])\n",
            "tensor([[8.8477e-01, 0.0000e+00, 3.8032e-01, 1.7590e-01],\n",
            "        [1.5133e-01, 0.0000e+00, 3.7675e-01, 3.9503e-04],\n",
            "        [1.1262e-01, 0.0000e+00, 3.6964e-01, 4.1629e-05],\n",
            "        [3.8892e-01, 0.0000e+00, 1.0845e-01, 2.3683e-02]])\n"
          ]
        }
      ]
    },
    {
      "cell_type": "code",
      "source": [
        "# a multiplicação é element-wise, então se os shapes não forem compatíveis, dá erro.\n",
        "torch.ones((2,2)) * torch.zeros((2,3)) # erro\n",
        "torch.ones((2,2)) * torch.zeros((2,1)) # ok"
      ],
      "metadata": {
        "colab": {
          "base_uri": "https://localhost:8080/",
          "height": 176
        },
        "id": "he1qSyC-x9Fg",
        "outputId": "9e0a3d93-212d-4e33-b179-18232ffdcf75"
      },
      "execution_count": null,
      "outputs": [
        {
          "output_type": "error",
          "ename": "RuntimeError",
          "evalue": "The size of tensor a (2) must match the size of tensor b (3) at non-singleton dimension 1",
          "traceback": [
            "\u001b[0;31m---------------------------------------------------------------------------\u001b[0m",
            "\u001b[0;31mRuntimeError\u001b[0m                              Traceback (most recent call last)",
            "\u001b[0;32m<ipython-input-43-a3fea99805b6>\u001b[0m in \u001b[0;36m<cell line: 2>\u001b[0;34m()\u001b[0m\n\u001b[1;32m      1\u001b[0m \u001b[0;31m# a multiplicação é element-wise, então se os shapes não forem compatíveis, dá erro.\u001b[0m\u001b[0;34m\u001b[0m\u001b[0;34m\u001b[0m\u001b[0m\n\u001b[0;32m----> 2\u001b[0;31m \u001b[0mtorch\u001b[0m\u001b[0;34m.\u001b[0m\u001b[0mones\u001b[0m\u001b[0;34m(\u001b[0m\u001b[0;34m(\u001b[0m\u001b[0;36m2\u001b[0m\u001b[0;34m,\u001b[0m\u001b[0;36m2\u001b[0m\u001b[0;34m)\u001b[0m\u001b[0;34m)\u001b[0m \u001b[0;34m*\u001b[0m \u001b[0mtorch\u001b[0m\u001b[0;34m.\u001b[0m\u001b[0mzeros\u001b[0m\u001b[0;34m(\u001b[0m\u001b[0;34m(\u001b[0m\u001b[0;36m2\u001b[0m\u001b[0;34m,\u001b[0m\u001b[0;36m3\u001b[0m\u001b[0;34m)\u001b[0m\u001b[0;34m)\u001b[0m \u001b[0;31m# erro\u001b[0m\u001b[0;34m\u001b[0m\u001b[0;34m\u001b[0m\u001b[0m\n\u001b[0m\u001b[1;32m      3\u001b[0m \u001b[0mtorch\u001b[0m\u001b[0;34m.\u001b[0m\u001b[0mones\u001b[0m\u001b[0;34m(\u001b[0m\u001b[0;34m(\u001b[0m\u001b[0;36m2\u001b[0m\u001b[0;34m,\u001b[0m\u001b[0;36m2\u001b[0m\u001b[0;34m)\u001b[0m\u001b[0;34m)\u001b[0m \u001b[0;34m*\u001b[0m \u001b[0mtorch\u001b[0m\u001b[0;34m.\u001b[0m\u001b[0mzeros\u001b[0m\u001b[0;34m(\u001b[0m\u001b[0;34m(\u001b[0m\u001b[0;36m2\u001b[0m\u001b[0;34m,\u001b[0m\u001b[0;36m1\u001b[0m\u001b[0;34m)\u001b[0m\u001b[0;34m)\u001b[0m \u001b[0;31m# ok\u001b[0m\u001b[0;34m\u001b[0m\u001b[0;34m\u001b[0m\u001b[0m\n",
            "\u001b[0;31mRuntimeError\u001b[0m: The size of tensor a (2) must match the size of tensor b (3) at non-singleton dimension 1"
          ]
        }
      ]
    },
    {
      "cell_type": "code",
      "source": [
        "mm1 = tensor.matmul(tensor) # matmul é o produto vetorial\n",
        "mm2 = tensor @ tensor # não é e-mail, é dot product, que\n",
        "print(mm1 == mm2)\n",
        "print(mm1 == m1) # é diferente da multiplicação de matriz anterior\n",
        "print(mm1)"
      ],
      "metadata": {
        "colab": {
          "base_uri": "https://localhost:8080/"
        },
        "id": "snA-WM96xu7R",
        "outputId": "812ce7d7-0597-4dc7-c8dd-8598bb9f9e49"
      },
      "execution_count": null,
      "outputs": [
        {
          "output_type": "stream",
          "name": "stdout",
          "text": [
            "tensor([[True, True, True, True],\n",
            "        [True, True, True, True],\n",
            "        [True, True, True, True],\n",
            "        [True, True, True, True]])\n",
            "tensor([[False,  True, False, False],\n",
            "        [False,  True, False, False],\n",
            "        [False,  True, False, False],\n",
            "        [False,  True, False, False]])\n",
            "tensor([[1.3533, 0.0000, 1.0931, 0.4630],\n",
            "        [0.5843, 0.0000, 0.6196, 0.1702],\n",
            "        [0.5237, 0.0000, 0.5787, 0.1457],\n",
            "        [0.7931, 0.0000, 0.6355, 0.2874]])\n"
          ]
        }
      ]
    },
    {
      "cell_type": "code",
      "source": [
        "print(tensor, '\\n') # esse \\n é só para dar um espaço no final da matriz\n",
        "tensor.add(5)\n",
        "print(tensor, '\\n') # adicionou 5, mas não mudou o objeto\n",
        "tensor.add_(5) # se usar \"_\" no final, ele altera o objeto\n",
        "print(tensor) # adicionou e mudou o objeto"
      ],
      "metadata": {
        "colab": {
          "base_uri": "https://localhost:8080/"
        },
        "id": "uv2fDmlKzNzJ",
        "outputId": "01d7caf8-aeba-42b8-bb23-d114d08f5ae7"
      },
      "execution_count": null,
      "outputs": [
        {
          "output_type": "stream",
          "name": "stdout",
          "text": [
            "tensor([[5.9406, 5.0000, 5.6167, 5.4194],\n",
            "        [5.3890, 5.0000, 5.6138, 5.0199],\n",
            "        [5.3356, 5.0000, 5.6080, 5.0065],\n",
            "        [5.6236, 5.0000, 5.3293, 5.1539]]) \n",
            "\n",
            "tensor([[5.9406, 5.0000, 5.6167, 5.4194],\n",
            "        [5.3890, 5.0000, 5.6138, 5.0199],\n",
            "        [5.3356, 5.0000, 5.6080, 5.0065],\n",
            "        [5.6236, 5.0000, 5.3293, 5.1539]]) \n",
            "\n",
            "tensor([[10.9406, 10.0000, 10.6167, 10.4194],\n",
            "        [10.3890, 10.0000, 10.6138, 10.0199],\n",
            "        [10.3356, 10.0000, 10.6080, 10.0065],\n",
            "        [10.6236, 10.0000, 10.3293, 10.1539]])\n"
          ]
        }
      ]
    },
    {
      "cell_type": "code",
      "source": [
        "t = torch.ones(5)\n",
        "print(t) # pytorch\n",
        "n = t.numpy()\n",
        "print(n) # numpy"
      ],
      "metadata": {
        "colab": {
          "base_uri": "https://localhost:8080/"
        },
        "id": "sj-cj6aCz9fX",
        "outputId": "6a6d413b-9982-4583-fbcd-a8e33358f783"
      },
      "execution_count": null,
      "outputs": [
        {
          "output_type": "stream",
          "name": "stdout",
          "text": [
            "tensor([1., 1., 1., 1., 1.])\n",
            "[1. 1. 1. 1. 1.]\n"
          ]
        }
      ]
    },
    {
      "cell_type": "code",
      "source": [
        "t.add_(1) # adiciona um\n",
        "print(t) # muda no pytorch\n",
        "print(n) # e também muda no numpy, que na verdade é uma referência a variável original, nesse caso"
      ],
      "metadata": {
        "colab": {
          "base_uri": "https://localhost:8080/"
        },
        "id": "PALyy5Ef0LPd",
        "outputId": "ff3dce91-be5e-4420-e22c-58b4b528c2e5"
      },
      "execution_count": null,
      "outputs": [
        {
          "output_type": "stream",
          "name": "stdout",
          "text": [
            "tensor([3., 3., 3., 3., 3.])\n",
            "[3. 3. 3. 3. 3.]\n"
          ]
        }
      ]
    },
    {
      "cell_type": "code",
      "source": [
        "# o contrario\n",
        "n = np.ones(5)\n",
        "t = torch.from_numpy(n) # torch.from_numpy, faz a conversão para o pytorch\n",
        "print(n)\n",
        "print(t)"
      ],
      "metadata": {
        "colab": {
          "base_uri": "https://localhost:8080/"
        },
        "id": "Ez06oFsM0cwR",
        "outputId": "7a1a0d46-2120-4e6d-9308-a64eacb39574"
      },
      "execution_count": null,
      "outputs": [
        {
          "output_type": "stream",
          "name": "stdout",
          "text": [
            "[1. 1. 1. 1. 1.]\n",
            "tensor([1., 1., 1., 1., 1.], dtype=torch.float64)\n"
          ]
        }
      ]
    },
    {
      "cell_type": "code",
      "source": [
        "np.add(n, 1, out=n) # esse out indica que é uma operação inplace\n",
        "print(f\"n: {n}\") # mudou numpy\n",
        "print(f\"t: {t}\") # tb mudou pytorch, que é referência"
      ],
      "metadata": {
        "colab": {
          "base_uri": "https://localhost:8080/"
        },
        "id": "FQDDmbR20gKm",
        "outputId": "9127d823-c937-40bd-fbf2-b6bb3e5990de"
      },
      "execution_count": null,
      "outputs": [
        {
          "output_type": "stream",
          "name": "stdout",
          "text": [
            "n: [2. 2. 2. 2. 2.]\n",
            "t: tensor([2., 2., 2., 2., 2.], dtype=torch.float64)\n"
          ]
        }
      ]
    },
    {
      "cell_type": "code",
      "source": [
        "# o contrario\n",
        "n = np.ones(5)\n",
        "t = torch.from_numpy(n).clone() # ao usar o clone, cria uma cópia, ao invés de fazer referência ao objeto original\n",
        "np.add(n, 1, out=n)\n",
        "print(n)\n",
        "print(t)"
      ],
      "metadata": {
        "colab": {
          "base_uri": "https://localhost:8080/"
        },
        "id": "NizuCez51IdG",
        "outputId": "f0ed4a9d-7cfc-4804-b5df-6f1bbc16e4f5"
      },
      "execution_count": null,
      "outputs": [
        {
          "output_type": "stream",
          "name": "stdout",
          "text": [
            "[2. 2. 2. 2. 2.]\n",
            "tensor([1., 1., 1., 1., 1.], dtype=torch.float64)\n"
          ]
        }
      ]
    },
    {
      "cell_type": "markdown",
      "source": [
        "## Autograd"
      ],
      "metadata": {
        "id": "ctM1O3B52YU9"
      }
    },
    {
      "cell_type": "markdown",
      "source": [
        "https://www.youtube.com/watch?v=tIeHLnjs5U8"
      ],
      "metadata": {
        "id": "SbZV-7Vx9K5j"
      }
    },
    {
      "cell_type": "code",
      "source": [
        "from torchvision.models import resnet18, ResNet18_Weights # importa a arquitetura e pesos da resnet18"
      ],
      "metadata": {
        "id": "erSbl06R2eT2"
      },
      "execution_count": null,
      "outputs": []
    },
    {
      "cell_type": "code",
      "source": [
        "model = resnet18(weights=ResNet18_Weights.DEFAULT) # instancia a resnet18 carregando os pesos da rede"
      ],
      "metadata": {
        "colab": {
          "base_uri": "https://localhost:8080/"
        },
        "id": "UhrIZRpJ9bft",
        "outputId": "2499d0e6-6f4d-40f0-b25b-e28045c5580c"
      },
      "execution_count": null,
      "outputs": [
        {
          "output_type": "stream",
          "name": "stderr",
          "text": [
            "Downloading: \"https://download.pytorch.org/models/resnet18-f37072fd.pth\" to /root/.cache/torch/hub/checkpoints/resnet18-f37072fd.pth\n",
            "100%|██████████| 44.7M/44.7M [00:00<00:00, 176MB/s]\n"
          ]
        }
      ]
    },
    {
      "cell_type": "code",
      "source": [
        "data = torch.rand(1, 3, 64, 64) # inventa uns dados para simular uma foto (1,) rgb(3,) 64 x 64 pixels (64, 64)\n",
        "data"
      ],
      "metadata": {
        "colab": {
          "base_uri": "https://localhost:8080/"
        },
        "id": "pxZ-2m9N9txO",
        "outputId": "21851072-1e1d-4fea-c585-480ab107c995"
      },
      "execution_count": null,
      "outputs": [
        {
          "output_type": "execute_result",
          "data": {
            "text/plain": [
              "tensor([[[[0.8582, 0.3850, 0.6169,  ..., 0.8029, 0.8020, 0.1729],\n",
              "          [0.4854, 0.6866, 0.5703,  ..., 0.5762, 0.7399, 0.0639],\n",
              "          [0.6102, 0.3870, 0.9104,  ..., 0.6862, 0.5557, 0.4587],\n",
              "          ...,\n",
              "          [0.1816, 0.4391, 0.7796,  ..., 0.4471, 0.4407, 0.3530],\n",
              "          [0.3328, 0.8274, 0.3542,  ..., 0.1631, 0.8381, 0.5090],\n",
              "          [0.5808, 0.9042, 0.3840,  ..., 0.7490, 0.0020, 0.3011]],\n",
              "\n",
              "         [[0.8943, 0.9706, 0.2829,  ..., 0.7858, 0.1497, 0.5147],\n",
              "          [0.6899, 0.9505, 0.5659,  ..., 0.4044, 0.2584, 0.1395],\n",
              "          [0.6866, 0.1504, 0.8257,  ..., 0.4539, 0.1231, 0.9203],\n",
              "          ...,\n",
              "          [0.0941, 0.9519, 0.2045,  ..., 0.7568, 0.5954, 0.5148],\n",
              "          [0.8099, 0.0557, 0.3219,  ..., 0.9586, 0.1966, 0.3336],\n",
              "          [0.0333, 0.9430, 0.0700,  ..., 0.3228, 0.0627, 0.2653]],\n",
              "\n",
              "         [[0.5103, 0.4802, 0.3542,  ..., 0.7551, 0.0105, 0.1958],\n",
              "          [0.4086, 0.1290, 0.8798,  ..., 0.5315, 0.6800, 0.0287],\n",
              "          [0.6623, 0.4256, 0.1095,  ..., 0.5129, 0.5979, 0.6008],\n",
              "          ...,\n",
              "          [0.9378, 0.9848, 0.8783,  ..., 0.7453, 0.7670, 0.2567],\n",
              "          [0.4830, 0.0323, 0.9399,  ..., 0.4852, 0.8358, 0.9742],\n",
              "          [0.7624, 0.9595, 0.3635,  ..., 0.7631, 0.8573, 0.1386]]]])"
            ]
          },
          "metadata": {},
          "execution_count": 85
        }
      ]
    },
    {
      "cell_type": "code",
      "source": [
        "labels = torch.rand(1, 1000) # inventa um rótulo com mil classes para classificar a imagem inventada antes\n",
        "labels"
      ],
      "metadata": {
        "colab": {
          "base_uri": "https://localhost:8080/"
        },
        "id": "93WPxjHD-ABH",
        "outputId": "888da309-135e-4402-c875-10d10f41f5d0"
      },
      "execution_count": null,
      "outputs": [
        {
          "output_type": "execute_result",
          "data": {
            "text/plain": [
              "tensor([[8.0972e-01, 5.1464e-01, 2.2886e-01, 9.9186e-01, 3.6240e-01, 8.2000e-02,\n",
              "         3.0253e-01, 5.9283e-01, 1.4192e-01, 1.5584e-02, 3.4069e-01, 2.6084e-01,\n",
              "         1.7919e-01, 1.7035e-01, 8.0070e-01, 5.6581e-01, 8.4892e-01, 5.4282e-01,\n",
              "         6.5222e-01, 1.5595e-01, 7.5117e-01, 6.3959e-01, 2.2850e-01, 5.6837e-01,\n",
              "         1.2609e-01, 1.9565e-01, 6.9019e-01, 1.0270e-01, 1.1615e-01, 1.4306e-01,\n",
              "         9.9981e-02, 5.6551e-01, 3.2140e-01, 2.0761e-01, 4.0483e-01, 1.8553e-02,\n",
              "         3.4284e-01, 1.5289e-01, 6.4112e-01, 6.9543e-01, 7.3204e-01, 8.2373e-01,\n",
              "         9.5255e-01, 8.7067e-01, 8.0365e-01, 1.3689e-01, 4.3356e-01, 5.4669e-01,\n",
              "         4.1751e-02, 3.7997e-01, 3.6461e-01, 5.5288e-01, 7.6477e-01, 7.4355e-01,\n",
              "         3.4412e-01, 5.8426e-01, 2.2479e-01, 3.5303e-02, 3.2348e-01, 9.4768e-01,\n",
              "         4.4548e-01, 8.0020e-01, 1.8841e-01, 7.5670e-01, 2.3342e-01, 1.5386e-01,\n",
              "         6.1433e-01, 3.5055e-01, 2.7264e-01, 8.1693e-01, 5.7861e-01, 6.0128e-01,\n",
              "         7.4620e-01, 7.8098e-01, 9.4814e-01, 3.5388e-02, 4.1580e-01, 7.6324e-01,\n",
              "         2.0696e-01, 5.3425e-01, 6.4887e-01, 5.5377e-01, 5.6426e-01, 9.0053e-01,\n",
              "         7.3287e-01, 2.7135e-01, 3.8265e-01, 2.3638e-01, 2.5521e-01, 5.9990e-01,\n",
              "         5.0771e-01, 8.6143e-01, 5.5084e-01, 6.5296e-02, 6.4847e-01, 6.4185e-01,\n",
              "         6.0342e-02, 8.0251e-01, 7.1669e-01, 9.0779e-01, 9.9218e-01, 6.0131e-01,\n",
              "         2.9800e-01, 3.4091e-02, 8.4192e-01, 9.9947e-01, 4.0376e-01, 6.7642e-01,\n",
              "         5.9146e-01, 4.4512e-01, 7.7998e-01, 2.7535e-01, 4.9703e-01, 9.2579e-01,\n",
              "         6.1651e-01, 1.9275e-01, 8.9959e-01, 9.5799e-01, 7.4578e-01, 6.6462e-01,\n",
              "         5.9738e-01, 8.1307e-01, 6.6604e-01, 7.1539e-01, 3.6012e-01, 1.1618e-01,\n",
              "         6.2582e-02, 5.8565e-01, 8.0287e-01, 8.9399e-01, 2.6127e-01, 6.0411e-01,\n",
              "         1.1053e-01, 3.5060e-01, 7.2069e-02, 3.4317e-01, 4.2458e-02, 4.7880e-01,\n",
              "         1.9157e-01, 6.1675e-01, 1.3080e-01, 6.5827e-01, 7.7915e-01, 1.3324e-01,\n",
              "         7.7145e-01, 8.8408e-02, 1.2143e-01, 9.3595e-01, 3.0164e-01, 7.1040e-01,\n",
              "         1.6680e-01, 2.6869e-02, 5.4908e-01, 2.6371e-01, 4.3116e-01, 1.4060e-01,\n",
              "         9.1048e-01, 4.1370e-01, 9.4256e-01, 9.4584e-01, 1.8481e-01, 8.4079e-01,\n",
              "         5.6104e-01, 1.2171e-01, 3.6184e-01, 6.6453e-01, 2.9923e-02, 5.0198e-01,\n",
              "         4.3629e-01, 6.2117e-01, 5.3905e-01, 8.7517e-01, 6.4451e-01, 9.6706e-01,\n",
              "         2.8531e-01, 9.1752e-01, 6.1137e-01, 1.5131e-01, 2.1533e-01, 7.1597e-01,\n",
              "         4.8569e-01, 9.4094e-01, 9.7886e-01, 5.2934e-01, 4.9711e-01, 1.6201e-02,\n",
              "         9.9230e-01, 7.2282e-01, 7.8902e-02, 1.6005e-01, 8.6454e-01, 5.9053e-01,\n",
              "         3.4339e-01, 9.7976e-01, 2.6508e-01, 6.4557e-01, 4.2938e-01, 8.3378e-01,\n",
              "         5.7928e-01, 8.8310e-01, 6.3062e-01, 7.4972e-01, 8.9225e-01, 3.4062e-01,\n",
              "         8.2979e-01, 5.8897e-01, 2.0642e-01, 7.2469e-01, 7.9381e-01, 6.7115e-01,\n",
              "         5.7938e-01, 1.4737e-02, 8.2190e-01, 9.9237e-01, 5.2356e-01, 1.7779e-01,\n",
              "         9.3680e-02, 8.4520e-01, 2.0495e-01, 9.4008e-01, 9.6600e-02, 9.2722e-01,\n",
              "         2.7457e-01, 7.4481e-01, 6.3436e-01, 8.5436e-01, 8.7797e-01, 2.7006e-01,\n",
              "         5.2891e-03, 6.2543e-01, 8.7524e-01, 4.1621e-01, 1.9079e-01, 6.0149e-01,\n",
              "         3.7035e-01, 2.4312e-01, 2.7817e-03, 6.5664e-01, 9.6495e-01, 1.5074e-01,\n",
              "         9.9007e-01, 7.2877e-02, 3.1725e-01, 4.8028e-01, 5.6624e-01, 2.7004e-02,\n",
              "         7.8650e-01, 1.8913e-01, 6.1167e-01, 8.9226e-01, 8.1498e-01, 8.4371e-01,\n",
              "         7.3278e-01, 6.6968e-01, 7.1354e-01, 5.1522e-01, 3.1659e-01, 2.5304e-01,\n",
              "         4.6498e-01, 2.3948e-01, 6.3760e-01, 1.9008e-01, 9.9833e-02, 9.1266e-01,\n",
              "         7.6998e-01, 2.5603e-02, 4.6012e-02, 2.9589e-01, 1.7712e-01, 3.3975e-01,\n",
              "         9.5323e-01, 7.2960e-01, 6.4232e-01, 8.7062e-01, 4.4809e-01, 4.8029e-01,\n",
              "         5.0092e-01, 3.4112e-01, 4.0750e-01, 9.5121e-01, 2.9227e-01, 6.6711e-01,\n",
              "         6.9466e-01, 3.7927e-01, 7.8026e-01, 5.8677e-01, 5.0257e-02, 9.3303e-02,\n",
              "         1.7121e-01, 3.2843e-01, 1.1411e-01, 4.9693e-01, 1.6209e-01, 5.7966e-01,\n",
              "         9.0550e-01, 8.5706e-01, 4.0275e-01, 7.2724e-01, 7.0858e-01, 6.9642e-01,\n",
              "         1.0481e-01, 6.0821e-01, 3.9503e-01, 6.2078e-01, 5.5644e-01, 4.1752e-02,\n",
              "         5.8007e-01, 4.5357e-01, 9.0629e-01, 6.3520e-01, 6.6464e-01, 8.5156e-01,\n",
              "         4.0543e-01, 8.1827e-01, 4.2508e-01, 8.3757e-01, 1.3939e-01, 1.0618e-01,\n",
              "         4.6041e-01, 4.1874e-01, 1.7470e-01, 8.9523e-01, 2.1282e-01, 7.4272e-01,\n",
              "         8.8722e-01, 5.8844e-01, 8.1468e-01, 1.1719e-01, 1.6041e-01, 2.9524e-01,\n",
              "         7.9497e-01, 4.5299e-01, 2.9528e-01, 3.0654e-01, 2.1615e-01, 7.7181e-01,\n",
              "         5.2616e-01, 8.4691e-01, 1.8674e-01, 5.6614e-01, 2.6767e-01, 2.2682e-01,\n",
              "         4.7784e-02, 5.5459e-01, 5.1571e-01, 7.5457e-01, 6.5852e-01, 8.2003e-01,\n",
              "         7.6199e-01, 8.4898e-02, 7.7040e-01, 9.7672e-02, 5.0189e-01, 1.6501e-02,\n",
              "         6.9013e-01, 9.6110e-01, 6.3882e-01, 8.8573e-02, 3.5983e-01, 9.1032e-01,\n",
              "         8.3436e-01, 7.5597e-01, 6.9170e-02, 8.6256e-01, 1.5461e-01, 9.0889e-01,\n",
              "         8.0788e-01, 3.1662e-01, 4.9289e-01, 3.7069e-01, 9.1350e-01, 7.3895e-01,\n",
              "         2.8403e-01, 1.4175e-01, 3.4166e-01, 9.3158e-02, 4.6460e-01, 5.9609e-01,\n",
              "         4.1925e-01, 3.6274e-01, 9.8011e-01, 3.5545e-01, 1.0378e-01, 5.0732e-01,\n",
              "         2.0712e-01, 7.8382e-01, 8.8936e-04, 2.1354e-02, 6.4531e-01, 3.5848e-01,\n",
              "         3.9007e-01, 4.2093e-01, 5.3636e-01, 7.5402e-01, 8.2294e-01, 5.5952e-01,\n",
              "         7.2128e-01, 2.8955e-01, 3.6884e-01, 5.9739e-01, 7.5601e-01, 9.6876e-01,\n",
              "         6.5110e-01, 4.0187e-01, 3.1781e-01, 3.4045e-01, 4.4028e-02, 1.5972e-01,\n",
              "         7.2629e-01, 7.7883e-01, 1.9959e-01, 1.7861e-01, 8.3170e-02, 3.5263e-01,\n",
              "         8.5617e-01, 4.6864e-01, 3.9938e-01, 7.2990e-02, 4.4434e-01, 7.9615e-02,\n",
              "         6.6467e-01, 4.9455e-01, 8.8182e-01, 3.5263e-01, 8.6026e-01, 7.7575e-01,\n",
              "         4.9922e-01, 9.5268e-01, 7.3389e-01, 6.4722e-01, 9.4034e-01, 6.5379e-03,\n",
              "         5.2300e-02, 1.1976e-01, 9.0543e-01, 7.4162e-01, 7.7691e-01, 8.9503e-01,\n",
              "         4.3847e-01, 6.9647e-02, 1.7268e-01, 9.5431e-01, 8.3545e-01, 8.2593e-01,\n",
              "         9.8225e-02, 8.7783e-01, 8.4377e-01, 9.9053e-02, 8.5401e-01, 8.1433e-01,\n",
              "         2.9900e-02, 3.4814e-01, 8.4921e-01, 9.8111e-01, 2.9052e-01, 6.5839e-02,\n",
              "         3.7790e-01, 2.1339e-01, 1.1217e-01, 9.5609e-01, 5.6183e-01, 2.9786e-01,\n",
              "         3.9339e-01, 4.2385e-01, 8.6629e-01, 3.7420e-01, 7.0856e-01, 2.6769e-01,\n",
              "         9.2129e-01, 2.5138e-02, 6.3545e-01, 8.9138e-01, 7.3631e-01, 3.3379e-01,\n",
              "         8.8816e-01, 1.9032e-01, 6.6691e-01, 3.9819e-01, 2.8555e-01, 6.0486e-01,\n",
              "         1.4843e-01, 6.5489e-01, 6.8976e-01, 9.9316e-01, 9.3139e-01, 3.5629e-01,\n",
              "         4.9951e-01, 8.5235e-01, 5.0842e-01, 8.0836e-01, 3.4010e-01, 5.5498e-01,\n",
              "         3.9420e-01, 1.3379e-01, 1.9128e-01, 1.3135e-01, 7.4625e-01, 6.8022e-01,\n",
              "         5.5450e-01, 7.1598e-02, 3.6097e-01, 7.7348e-01, 4.7137e-01, 7.2473e-01,\n",
              "         5.4068e-01, 5.0608e-01, 5.6511e-01, 7.8341e-02, 6.5622e-01, 8.6082e-01,\n",
              "         4.3146e-01, 9.4839e-01, 8.5201e-02, 8.2040e-02, 8.5309e-02, 3.1187e-01,\n",
              "         3.2469e-01, 4.3811e-01, 2.2447e-01, 3.7637e-01, 8.2262e-01, 3.2988e-01,\n",
              "         2.5573e-01, 9.8807e-01, 3.2547e-01, 7.9059e-02, 4.3887e-01, 7.9164e-01,\n",
              "         9.6511e-02, 1.7735e-01, 1.4656e-01, 2.5176e-01, 1.9339e-01, 9.6655e-01,\n",
              "         1.0716e-01, 5.9259e-01, 1.6839e-01, 2.7686e-01, 9.7497e-01, 5.1074e-01,\n",
              "         3.8919e-01, 8.2459e-01, 9.6663e-01, 1.3865e-01, 2.0684e-01, 3.6117e-02,\n",
              "         5.8833e-01, 6.1241e-01, 7.6057e-01, 3.8321e-01, 9.7519e-01, 5.8122e-01,\n",
              "         5.2561e-01, 2.9113e-01, 3.4025e-01, 1.0663e-01, 2.9059e-01, 7.8282e-01,\n",
              "         4.3142e-01, 4.4094e-01, 7.5590e-01, 3.2638e-01, 4.2872e-01, 9.8769e-01,\n",
              "         2.6195e-01, 9.1548e-01, 2.3528e-01, 8.6525e-02, 8.8505e-01, 6.4790e-03,\n",
              "         3.3608e-01, 1.1904e-01, 7.2556e-02, 6.0445e-01, 4.9491e-01, 2.1051e-01,\n",
              "         5.8209e-01, 6.3562e-02, 5.4813e-01, 7.6028e-01, 1.9955e-02, 4.8127e-01,\n",
              "         2.0600e-01, 6.0233e-01, 4.2753e-01, 5.2752e-01, 1.1248e-01, 8.5015e-01,\n",
              "         3.8261e-01, 5.2861e-01, 7.3259e-01, 7.2546e-01, 9.1024e-01, 6.5819e-01,\n",
              "         3.7811e-01, 1.0361e-01, 3.7500e-01, 9.7076e-01, 1.9307e-01, 4.7377e-02,\n",
              "         3.9950e-01, 4.9832e-01, 8.6007e-02, 5.5418e-01, 8.7091e-01, 3.4558e-02,\n",
              "         7.7260e-02, 2.6725e-01, 9.9956e-02, 9.3563e-01, 3.7412e-02, 1.9753e-01,\n",
              "         7.1607e-01, 9.9121e-01, 5.1032e-01, 4.7568e-01, 1.1060e-01, 3.6379e-01,\n",
              "         1.3325e-01, 9.5472e-01, 7.2333e-01, 5.2714e-01, 2.9763e-01, 1.3890e-01,\n",
              "         5.1165e-01, 4.8425e-01, 4.9428e-01, 5.4712e-01, 1.9766e-01, 9.6084e-01,\n",
              "         2.1386e-01, 5.7443e-01, 5.6214e-01, 2.9125e-01, 7.5596e-01, 9.6240e-01,\n",
              "         3.3233e-01, 7.0335e-01, 2.2231e-01, 1.3541e-01, 4.1803e-01, 4.1939e-01,\n",
              "         8.3391e-01, 3.0654e-01, 9.6708e-01, 4.3275e-01, 7.7696e-01, 1.7788e-01,\n",
              "         4.3253e-01, 8.3010e-01, 5.6739e-01, 9.6451e-01, 9.6129e-01, 5.1588e-02,\n",
              "         9.9081e-01, 8.4896e-01, 5.4648e-01, 7.2789e-01, 6.4115e-01, 4.2083e-01,\n",
              "         2.9273e-01, 2.8038e-01, 4.6375e-01, 5.8365e-01, 1.4605e-01, 4.2994e-01,\n",
              "         4.3923e-01, 6.3226e-02, 3.9736e-01, 1.2946e-01, 2.9121e-01, 6.0477e-01,\n",
              "         1.3115e-01, 4.6962e-01, 1.3328e-01, 3.6862e-01, 8.6258e-01, 5.3431e-01,\n",
              "         4.5319e-01, 8.3801e-01, 8.5763e-01, 2.8026e-02, 1.7196e-01, 4.0239e-01,\n",
              "         8.1533e-01, 8.4367e-01, 5.3084e-01, 5.1247e-01, 7.6676e-01, 2.5544e-01,\n",
              "         1.8890e-01, 1.6128e-01, 3.4555e-01, 9.2341e-01, 4.9900e-01, 4.2465e-01,\n",
              "         5.7665e-01, 6.7737e-01, 9.6918e-01, 5.7806e-02, 9.0588e-02, 8.7502e-01,\n",
              "         1.8786e-02, 6.9680e-01, 8.0746e-01, 3.2337e-01, 4.6274e-01, 3.4890e-02,\n",
              "         1.0623e-01, 6.9539e-01, 1.1566e-01, 5.7116e-02, 4.8565e-01, 5.9815e-01,\n",
              "         9.5526e-01, 2.0421e-01, 5.6234e-01, 5.4653e-01, 1.5599e-01, 2.2727e-01,\n",
              "         1.2318e-01, 5.5085e-01, 4.5286e-03, 7.9365e-01, 9.7874e-01, 1.1760e-01,\n",
              "         6.6739e-01, 5.1722e-01, 1.7604e-01, 3.7815e-01, 2.9064e-01, 4.7760e-01,\n",
              "         9.4996e-03, 7.7336e-01, 7.6585e-01, 9.8194e-01, 9.6899e-01, 4.4137e-01,\n",
              "         5.9156e-01, 7.2817e-01, 7.9015e-01, 9.1866e-02, 7.8935e-01, 2.3686e-02,\n",
              "         9.0737e-01, 5.2688e-01, 5.8804e-01, 8.7716e-03, 3.3945e-01, 2.5009e-01,\n",
              "         8.9901e-01, 1.6854e-01, 5.0925e-01, 3.2402e-01, 6.2210e-01, 7.2262e-01,\n",
              "         9.8950e-02, 9.9715e-01, 5.0065e-01, 8.9450e-01, 3.8550e-01, 2.5466e-02,\n",
              "         9.5674e-01, 6.6198e-01, 8.8800e-01, 1.6626e-02, 4.9314e-02, 5.0108e-01,\n",
              "         8.6340e-01, 8.1243e-02, 2.1869e-01, 9.8514e-01, 5.0121e-01, 7.9701e-01,\n",
              "         4.1066e-03, 9.6984e-01, 9.8118e-02, 4.8233e-01, 7.5720e-01, 9.6730e-01,\n",
              "         1.0305e-02, 1.1529e-01, 7.6444e-01, 4.0402e-01, 1.0842e-01, 5.9883e-01,\n",
              "         2.7026e-01, 4.7959e-01, 3.9055e-01, 6.6211e-01, 8.8045e-01, 8.4256e-01,\n",
              "         5.1799e-01, 2.0162e-01, 1.2686e-01, 7.8911e-02, 6.3825e-02, 8.8603e-01,\n",
              "         5.1237e-01, 7.0949e-01, 9.7272e-01, 8.5554e-01, 1.9930e-01, 9.5260e-01,\n",
              "         5.4737e-01, 5.5119e-01, 6.6999e-01, 7.7252e-01, 5.5327e-01, 8.9333e-02,\n",
              "         7.5044e-01, 4.6972e-01, 9.4830e-01, 5.5242e-01, 2.6478e-01, 7.5420e-03,\n",
              "         3.7230e-01, 1.9664e-01, 2.2219e-01, 3.2232e-01, 3.4164e-01, 4.3400e-01,\n",
              "         3.2688e-01, 3.1546e-01, 6.4547e-01, 9.4162e-01, 2.2006e-01, 8.0746e-01,\n",
              "         3.5042e-02, 9.5821e-01, 7.7851e-01, 1.6869e-01, 3.1237e-02, 3.4092e-02,\n",
              "         1.7226e-01, 8.2558e-01, 6.4860e-01, 2.8023e-01, 7.4123e-01, 5.9949e-01,\n",
              "         4.1053e-02, 3.7827e-01, 9.2381e-01, 7.2402e-01, 7.6514e-01, 1.1684e-01,\n",
              "         6.5305e-01, 7.5760e-01, 1.0383e-01, 3.9822e-01, 6.9911e-01, 1.0315e-01,\n",
              "         4.0508e-01, 3.1262e-01, 6.5808e-01, 8.1738e-01, 5.7488e-01, 6.4518e-02,\n",
              "         8.9131e-01, 7.3768e-01, 5.0679e-01, 4.1245e-01, 6.2675e-01, 4.6069e-01,\n",
              "         2.1341e-01, 7.2794e-01, 2.3546e-01, 3.2511e-01, 6.2702e-01, 5.6555e-01,\n",
              "         7.8990e-01, 2.7670e-01, 8.6640e-01, 8.7748e-01, 2.8728e-01, 6.0559e-01,\n",
              "         2.0260e-01, 9.0408e-01, 8.8680e-01, 4.5901e-01, 5.8182e-01, 4.4464e-01,\n",
              "         1.3346e-01, 7.0613e-01, 1.2027e-01, 7.3035e-01, 7.7241e-01, 1.9903e-03,\n",
              "         1.6899e-01, 5.5946e-01, 5.0619e-02, 2.6227e-02, 6.7026e-01, 5.6159e-01,\n",
              "         3.9754e-01, 1.1678e-01, 9.0245e-01, 8.8609e-01, 5.3543e-01, 4.7377e-01,\n",
              "         7.3287e-01, 7.1607e-01, 5.5928e-01, 2.6382e-01, 3.2958e-01, 1.7677e-01,\n",
              "         5.7165e-01, 4.6142e-01, 4.7487e-01, 8.7601e-01, 8.8875e-01, 8.8453e-01,\n",
              "         1.4313e-01, 6.1784e-01, 7.3257e-01, 4.0023e-01, 4.1589e-02, 9.1091e-01,\n",
              "         6.6854e-01, 9.8362e-01, 6.3799e-01, 2.2235e-02, 4.5741e-01, 3.2428e-01,\n",
              "         7.2979e-01, 1.7548e-01, 8.0772e-01, 4.6531e-01, 3.9183e-01, 9.7023e-01,\n",
              "         5.8880e-01, 8.3012e-01, 1.2615e-01, 4.8039e-01, 2.7125e-01, 7.8783e-01,\n",
              "         2.5875e-01, 6.9337e-01, 3.0453e-01, 8.8318e-01, 4.5624e-01, 9.1576e-01,\n",
              "         4.0714e-01, 3.0321e-02, 2.1638e-01, 3.8262e-01, 5.9672e-01, 4.6564e-01,\n",
              "         2.7415e-03, 6.2466e-01, 2.9268e-01, 1.4307e-01, 9.4553e-01, 5.4822e-01,\n",
              "         7.6447e-01, 1.0311e-01, 8.1503e-01, 2.8093e-03, 9.9465e-01, 2.9697e-01,\n",
              "         5.3935e-01, 9.9734e-02, 9.1430e-01, 2.4502e-01, 3.0493e-01, 3.8310e-01,\n",
              "         6.7940e-01, 9.6261e-01, 5.7891e-01, 8.4667e-01, 7.5462e-01, 4.5527e-01,\n",
              "         4.2723e-01, 9.9221e-01, 8.3140e-01, 6.1707e-02, 8.7357e-01, 9.2307e-01,\n",
              "         9.7163e-01, 2.0501e-01, 8.1497e-01, 4.3202e-01, 8.6916e-01, 5.8034e-01,\n",
              "         4.0590e-01, 6.7818e-01, 5.5214e-01, 8.8427e-01, 3.3157e-01, 3.8190e-01,\n",
              "         8.2026e-01, 6.9386e-01, 3.0503e-01, 3.5396e-01, 5.5662e-01, 5.7467e-01,\n",
              "         8.1295e-01, 5.8273e-01, 4.1749e-01, 3.1050e-02]])"
            ]
          },
          "metadata": {},
          "execution_count": 86
        }
      ]
    },
    {
      "cell_type": "code",
      "source": [
        "prediction = model(data) # faz a previsão da foto aleatória usando a rede pré-treinada, como forward pass\n",
        "print(prediction.shape)\n",
        "print(prediction)"
      ],
      "metadata": {
        "colab": {
          "base_uri": "https://localhost:8080/"
        },
        "id": "KNVG0yWj-QU3",
        "outputId": "0a281e61-feea-4710-dbce-0bf5b7baa1de"
      },
      "execution_count": null,
      "outputs": [
        {
          "output_type": "stream",
          "name": "stdout",
          "text": [
            "torch.Size([1, 1000])\n",
            "tensor([[-0.7761, -0.4841, -0.7908, -1.5963, -0.6773, -0.2456, -0.5483,  0.2266,\n",
            "          0.1542, -1.1067, -1.0288, -0.8318, -0.4752, -1.1472, -0.8700, -0.8466,\n",
            "         -1.1601, -0.2471, -0.5057, -0.6737, -1.7285, -1.0179, -1.7389, -0.0248,\n",
            "         -1.1699, -1.2808, -0.9797, -1.3643, -1.0006, -0.3501, -0.5878, -0.7036,\n",
            "         -0.3761, -1.0004, -0.6164, -0.7526,  0.4291, -0.9639, -0.4597, -0.3621,\n",
            "         -0.6966, -1.0790, -1.4024, -0.5749, -0.9960, -0.6813, -0.7579, -0.7068,\n",
            "         -1.6228, -1.3403, -0.6676,  0.4201, -0.7174, -1.1440, -0.7079, -1.3760,\n",
            "         -0.6467, -1.8835, -0.6505, -0.7836,  0.3096, -0.0815, -0.4271, -0.0883,\n",
            "         -0.9174, -0.6807, -0.7391, -0.7376, -1.2388, -1.1011, -1.6062, -0.3521,\n",
            "         -1.1112, -0.0780, -0.8829, -1.2417, -0.0330, -0.6004,  0.2606,  0.0224,\n",
            "         -0.8986, -1.8133, -0.1191, -1.0514, -0.6282, -0.4467, -0.1402,  0.3284,\n",
            "         -0.1420, -0.8514, -1.5333, -1.3048, -1.9912, -0.5192, -0.0818, -2.3346,\n",
            "         -0.7928, -0.4955, -1.5543, -0.3429, -1.0766, -1.1626, -0.9778, -0.4359,\n",
            "         -0.4510, -0.6407, -0.6111, -1.4305, -1.1341, -1.7920, -1.4395, -0.7345,\n",
            "          0.9005,  0.2665,  0.1215, -1.1478, -1.0945, -0.4810,  0.3252, -0.7486,\n",
            "         -1.0652, -0.1977,  0.0188, -0.2338,  0.8639, -0.3427,  0.3002, -1.4183,\n",
            "         -1.5360, -1.1271, -1.4016, -1.5634, -1.1055, -1.5552, -0.7387, -1.5015,\n",
            "         -0.8713, -1.2377, -1.8024, -1.7505, -1.7864, -1.8605, -2.3728, -1.8225,\n",
            "         -0.6532, -0.6333, -1.0988, -1.9087, -1.2979, -1.5417,  0.3452,  1.5330,\n",
            "         -0.9530, -0.4661,  0.1246,  0.0533, -0.3927, -0.2685, -0.0218,  0.1115,\n",
            "          0.2108,  0.8014,  0.3527,  0.7755,  0.4469, -0.0791, -0.0969, -0.4530,\n",
            "          0.6819, -0.1670, -0.2386,  0.6875,  0.3375,  0.2035,  0.1831, -0.6136,\n",
            "          0.1506, -0.1284,  0.4844,  0.7197,  0.5376, -0.0779,  0.6453,  0.1985,\n",
            "          0.6048,  0.6235,  0.4535,  0.0976,  0.1107,  0.5251, -0.6519,  0.4746,\n",
            "          0.4252,  0.3051, -0.6521,  0.4835,  0.0071,  0.1547,  0.1488,  0.4879,\n",
            "          0.0540,  0.0038,  0.3369,  0.5520,  0.1530,  0.1846, -0.0618,  0.6095,\n",
            "          1.2528,  0.4449, -0.0646,  0.4351,  0.3882, -0.0170,  0.0133,  0.3190,\n",
            "         -0.1267,  0.1353, -0.2886,  0.5859,  0.1031, -0.2046,  0.0629,  0.8665,\n",
            "          0.1181,  0.4377, -0.0680,  0.6760, -0.5443, -0.2044, -0.1180,  0.3434,\n",
            "          0.2813, -0.0388,  0.7650,  0.7400,  0.5659,  0.3292,  0.7196, -0.0209,\n",
            "          0.3984, -0.1945,  0.5625,  0.2394, -0.1624,  0.4342,  0.4261, -0.0284,\n",
            "          0.7637,  0.1998,  0.5716,  0.8297, -0.8106,  0.5110,  0.8433, -0.6621,\n",
            "          0.4011,  0.2815, -0.0219,  0.3304, -0.0775, -0.6265, -0.1848,  0.3989,\n",
            "          0.5541,  0.7411,  0.3560,  0.7418, -0.4603, -0.7021, -1.0142, -1.1453,\n",
            "         -0.7501,  0.3138, -1.3347, -1.5228, -1.2122, -1.0414, -1.5015, -0.7394,\n",
            "         -0.5904,  0.9065,  1.0337, -0.0922,  0.0224,  0.9334, -0.3163, -0.4034,\n",
            "         -0.6316, -1.5351, -0.9746, -1.5366, -0.2483, -0.8962, -0.9552, -0.9854,\n",
            "         -0.8985, -1.3341, -0.6120, -0.3276, -1.9801, -0.7390, -0.3095, -0.2870,\n",
            "         -1.0023, -0.8495,  0.1379, -0.8769, -1.4752, -0.5781,  0.3969, -0.5626,\n",
            "         -0.3782,  0.1331,  0.6302, -0.4315, -1.0574, -1.0505, -1.1422, -0.5852,\n",
            "         -1.4712, -1.3989, -1.5291, -1.7139, -1.3558, -1.7651, -1.4287, -0.1627,\n",
            "         -0.1971, -0.8136, -0.2411, -0.2167, -0.0892,  0.1809, -0.4246, -0.7594,\n",
            "         -1.6087, -0.0941,  0.8454, -1.1739, -0.4997,  0.5702, -0.6211, -1.7655,\n",
            "         -0.7858,  0.6751, -0.8246, -1.6141, -0.2948, -1.6279, -1.2144, -2.4692,\n",
            "         -1.6506, -0.7712, -0.7713,  0.5934,  1.0864, -0.2198,  0.3677,  0.2787,\n",
            "         -0.4183,  0.4700, -0.0064,  0.1384, -0.6331, -0.4769, -1.0148, -0.3306,\n",
            "         -0.7940, -0.6379, -0.7394, -0.1484, -0.5113, -0.0084, -0.2191, -1.1385,\n",
            "         -1.0946,  0.2094, -0.3772, -0.5816,  0.2186, -0.4451, -0.2862, -0.4919,\n",
            "         -0.7204, -0.7352, -1.2004, -0.9193, -1.0373, -0.3394,  0.0449,  0.1103,\n",
            "         -1.7512, -1.9931, -0.3297,  0.4726, -1.2932, -0.9181,  0.7828, -0.0834,\n",
            "         -0.6285,  1.0378, -0.0389, -1.8016, -1.6361, -0.4711, -0.2840, -0.1038,\n",
            "         -0.3594,  1.1003, -0.3807,  0.4167,  1.9475,  0.7956,  0.4351,  1.2475,\n",
            "         -0.0678,  0.1920,  0.7003,  1.3056,  0.7431,  1.6187, -0.2716,  0.3796,\n",
            "          0.2680, -1.1253,  0.0826,  1.3868,  1.4702,  0.7157, -0.8331,  0.2039,\n",
            "          0.5098,  0.6960,  0.4122,  0.9717, -0.3199, -0.2253,  0.4954,  0.4122,\n",
            "          0.7426,  0.4713,  0.2456, -0.4566, -0.2049,  0.1261,  0.8376,  1.4109,\n",
            "          1.1486, -0.6048,  0.1541,  0.4275,  0.6817, -0.0487, -0.1330,  0.5549,\n",
            "          1.5703,  1.2065,  0.0951,  0.6304, -0.6488,  0.6301,  1.5974,  2.4240,\n",
            "          0.8258, -0.1457, -1.2840, -0.1842,  0.0331,  1.6184,  1.4328,  0.6859,\n",
            "          0.1732,  1.0791, -0.3442,  0.1951,  0.0531,  0.5562,  0.9932,  0.1379,\n",
            "          0.3813,  0.3934,  0.4351, -1.0313, -1.2092,  0.1071, -0.2147,  1.4122,\n",
            "          1.5366,  1.0985,  0.2698,  0.9052,  0.6788, -1.0101,  1.6731, -0.8027,\n",
            "          0.1105, -0.4918, -0.2461,  1.1789, -1.7224,  0.5758,  1.1877,  0.6142,\n",
            "          1.0105,  1.0578,  0.9743,  0.7233,  0.7714,  0.2495, -0.8571, -0.8780,\n",
            "          0.7651,  0.5763,  0.9047,  1.6858,  0.6668,  0.1198,  1.3472,  0.9278,\n",
            "         -0.3715,  0.4189,  1.2205,  1.7657,  0.3901, -0.8363,  0.4981, -0.0708,\n",
            "          0.4890,  0.1888,  1.1993,  0.3718,  0.3099, -0.7468,  0.7922, -0.7324,\n",
            "         -0.4257, -0.6755, -0.1640,  1.2718, -1.0506,  1.8446,  1.4279,  0.7786,\n",
            "          0.5857,  1.1024,  0.5603, -2.1668, -0.9317,  0.3618, -0.3533, -0.1053,\n",
            "          0.7400,  0.0398, -1.1087, -0.6676,  0.3552,  0.5169,  1.2573,  1.0269,\n",
            "          0.4161,  0.0037,  0.8965,  0.1227, -0.9276, -0.6101,  0.0882,  0.9397,\n",
            "          0.4723, -0.5493,  1.2333,  0.1405,  0.9182, -0.7302,  0.7338, -0.1281,\n",
            "         -0.7301,  1.1745,  0.3828,  0.2242,  0.0502, -0.2669,  0.6286,  0.9670,\n",
            "          0.9521,  1.1509, -0.4239,  1.6765,  1.1788,  1.3702, -0.4604,  0.8709,\n",
            "         -0.3794,  0.9256,  0.5533, -0.5839,  1.0945, -0.1828, -0.4469,  0.8620,\n",
            "          2.1911, -0.1608, -0.1314, -0.7229,  0.8485,  0.5447,  1.6048, -0.6538,\n",
            "          0.5847, -0.2904,  1.1891,  0.5510, -0.5202,  0.9235,  0.2316,  0.4179,\n",
            "          1.1756,  0.8577,  1.7744,  0.9736,  1.2410,  0.5335,  0.2550,  0.5312,\n",
            "          0.1930, -1.0069,  1.2126, -0.3879, -0.9109,  0.3389, -0.0474,  1.1173,\n",
            "          0.9347,  1.0733, -0.2524,  0.3603,  1.4745,  1.0654,  0.6890,  0.3228,\n",
            "         -1.8844,  1.1989,  0.1267,  1.0125,  0.8292, -0.5477,  0.6633,  0.4495,\n",
            "         -0.3952, -1.3974,  1.3071,  0.3602,  0.7107,  0.9404, -0.2684,  0.6708,\n",
            "         -0.2850,  0.3673,  0.1077,  0.3140, -0.1327, -1.1744,  0.2611, -0.9955,\n",
            "          1.1954,  0.0683,  1.2416,  0.6864, -0.6922, -0.3896,  0.2743, -0.2773,\n",
            "         -0.3749,  0.6271,  1.5339, -0.7400,  1.8455,  0.8432,  0.9223, -0.0727,\n",
            "          0.7428,  0.7796, -0.3487,  0.5800,  0.9692, -1.3635,  0.0741, -0.9577,\n",
            "         -0.0651, -0.7953, -0.6510,  0.8234,  1.4110,  0.6020, -0.5242,  0.9455,\n",
            "          1.6205,  0.2664, -0.4338,  0.8057,  2.2230, -0.3061, -0.1016,  0.6878,\n",
            "          0.5755, -0.6148, -0.2264,  0.4566,  1.0551,  0.6230,  1.0533,  0.9667,\n",
            "          0.2178, -0.0689,  0.2919, -0.4466,  0.7979, -0.6425, -0.0557,  0.7527,\n",
            "          0.5177,  0.3407,  1.3547,  0.6333, -0.7051,  1.3308, -0.7660, -0.0861,\n",
            "          1.6532, -0.2042,  0.2971,  2.1864, -0.4254,  2.0652, -1.3903,  0.1950,\n",
            "          0.0580,  0.6394,  1.0235, -0.1128,  0.8729, -0.0974,  0.7025,  0.4108,\n",
            "          0.9363,  0.5904,  0.0255,  0.6367,  0.9771,  1.7052,  0.6770, -0.0748,\n",
            "          0.4961,  0.8438,  0.8746, -0.7277,  1.0855, -0.0752,  1.5149, -0.2064,\n",
            "          0.0677,  0.9517,  0.4684,  0.7001,  1.3996,  0.9896,  0.5312,  0.7633,\n",
            "         -0.0900,  1.5556,  0.4803,  0.5813,  1.5840,  0.8348,  0.8787,  0.4086,\n",
            "          0.5074,  0.5040,  1.4151, -0.9351, -0.9413, -0.6589,  1.4220,  0.8381,\n",
            "          1.5081,  0.3132,  1.1246,  1.2102,  0.2665,  0.2408,  0.8258,  1.3056,\n",
            "          1.6525,  1.0588,  0.3018,  0.4159,  0.7109,  0.7465, -0.4018,  0.4356,\n",
            "         -0.6925,  0.0079, -1.1972, -1.2354,  1.0742,  1.4180,  0.3834,  0.3023,\n",
            "          1.2312, -0.1930, -0.2157,  1.2284,  0.1244,  1.6415, -0.8530,  0.0250,\n",
            "          0.4949, -1.0169,  1.8124,  0.3962, -1.6874, -0.8686,  0.3211,  0.8180,\n",
            "          1.0149, -0.8504,  0.3856,  0.7888,  1.1384, -0.4434,  1.3888,  0.6375,\n",
            "         -0.5871, -0.8667,  0.2226,  0.6733,  1.4030,  1.6046,  1.0476, -0.4471,\n",
            "          1.5642,  0.5190,  0.5422,  0.6616,  0.7245,  1.8006,  0.9283, -0.3402,\n",
            "          0.4413,  0.9750,  1.3212,  1.7692,  2.1543, -0.5684, -0.5524,  0.9904,\n",
            "         -0.3656, -0.1258, -0.5043,  1.2564,  0.3046,  1.2344,  1.2592, -0.2378,\n",
            "         -0.2877,  0.5890,  0.1955, -0.3323,  1.6879, -0.3965,  0.7891, -0.9979,\n",
            "          1.2548, -0.9785, -2.3617,  0.4701,  1.4298, -0.0511, -0.0599,  1.7479,\n",
            "          1.0382,  0.0483,  1.1037,  1.4511, -0.0555,  0.4335, -0.3309, -0.1086,\n",
            "         -1.1195,  0.2354, -0.4237,  0.2587,  0.6922,  0.4862, -0.5595, -0.5759,\n",
            "          1.1446,  0.5338,  2.0699,  1.9631, -0.9094, -0.3890,  1.9146,  0.8301,\n",
            "          1.1345,  0.1870, -0.3022,  1.3398, -0.7313,  0.9019,  1.1823,  1.1367,\n",
            "          0.7637, -0.6258, -1.7288, -0.4526,  0.4124,  0.3704,  0.7708,  0.4631,\n",
            "          0.0550,  1.3707, -0.4435,  0.3972, -0.3867, -1.1265, -1.2526, -0.7127,\n",
            "         -0.1795,  1.8459, -0.2324,  0.0438,  0.4911, -1.7156,  0.2897, -0.7937,\n",
            "          0.2458,  0.1666, -0.3377,  0.1150, -0.4106, -0.6599, -0.3754,  0.3914,\n",
            "         -0.4771, -0.7356, -1.1728,  0.5198,  1.0185, -0.2062, -0.1086, -0.5432,\n",
            "         -0.3453,  0.1623,  0.6804, -0.2867, -0.2003, -0.4764, -0.1353, -1.0498,\n",
            "          0.1465,  0.1517, -0.6493, -0.9680, -1.5065, -0.2601,  0.3311, -0.6253,\n",
            "          0.6743, -0.0084,  0.0622,  1.1368, -0.3286, -0.6128, -2.1569,  1.0589,\n",
            "         -1.6077,  0.3286,  0.0474, -1.0015, -1.0247,  0.1311,  0.5164, -0.5699,\n",
            "         -1.0780, -1.2109, -2.5567,  1.1675, -0.1409, -1.1019, -0.3015, -1.2823,\n",
            "         -0.8035, -2.0675, -0.8706, -0.4832,  0.0039, -0.6863,  1.2369,  1.0047]],\n",
            "       grad_fn=<AddmmBackward0>)\n"
          ]
        }
      ]
    },
    {
      "cell_type": "code",
      "source": [
        "loss = (prediction - labels).sum() # calcula o erro entre a previsão e o rótulo\n",
        "loss # o resultado mostra o erro total considerando todas as mil classes, e também a função gradiente da rede para fazer o backward pass"
      ],
      "metadata": {
        "colab": {
          "base_uri": "https://localhost:8080/"
        },
        "id": "gFFGvCIh-lQ8",
        "outputId": "59e474e3-3d5d-473a-a47f-db225e793ca3"
      },
      "execution_count": null,
      "outputs": [
        {
          "output_type": "execute_result",
          "data": {
            "text/plain": [
              "tensor(-495.2192, grad_fn=<SumBackward0>)"
            ]
          },
          "metadata": {},
          "execution_count": 98
        }
      ]
    },
    {
      "cell_type": "code",
      "source": [
        "loss.backward() # realiza o backpropagation"
      ],
      "metadata": {
        "colab": {
          "base_uri": "https://localhost:8080/"
        },
        "id": "dxb2aMoR-z2p",
        "outputId": "8b1ae0aa-0031-4661-b615-8e2a28135987"
      },
      "execution_count": null,
      "outputs": [
        {
          "output_type": "stream",
          "name": "stderr",
          "text": [
            "<ipython-input-99-703dcf80ded4>:2: UserWarning: The .grad attribute of a Tensor that is not a leaf Tensor is being accessed. Its .grad attribute won't be populated during autograd.backward(). If you indeed want the .grad field to be populated for a non-leaf Tensor, use .retain_grad() on the non-leaf Tensor. If you access the non-leaf Tensor by mistake, make sure you access the leaf Tensor instead. See github.com/pytorch/pytorch/pull/30531 for more informations. (Triggered internally at aten/src/ATen/core/TensorBody.h:489.)\n",
            "  loss.grad\n"
          ]
        }
      ]
    },
    {
      "cell_type": "code",
      "source": [
        "optim = torch.optim.SGD(model.parameters(), lr=1e-2, momentum=0.9) # após cálcular os gradientes para cada parâmetro da rede, é preciso de um otimizador para ajustar o pesos na direção de minimizar o erro\n",
        "print(model.parameters()) # conjunto de parametros para iterar com o otimizador\n",
        "print(optim)"
      ],
      "metadata": {
        "colab": {
          "base_uri": "https://localhost:8080/"
        },
        "id": "8sLSkiK8AUAM",
        "outputId": "43b84811-3840-4031-97d2-7dfd088f8633"
      },
      "execution_count": null,
      "outputs": [
        {
          "output_type": "stream",
          "name": "stdout",
          "text": [
            "<generator object Module.parameters at 0x7e68f629f8b0>\n",
            "SGD (\n",
            "Parameter Group 0\n",
            "    dampening: 0\n",
            "    differentiable: False\n",
            "    foreach: None\n",
            "    fused: None\n",
            "    lr: 0.01\n",
            "    maximize: False\n",
            "    momentum: 0.9\n",
            "    nesterov: False\n",
            "    weight_decay: 0\n",
            ")\n"
          ]
        }
      ]
    },
    {
      "cell_type": "code",
      "source": [
        "optim.step() # roda o otimizador"
      ],
      "metadata": {
        "id": "7SqHMAFwArNa"
      },
      "execution_count": null,
      "outputs": []
    },
    {
      "cell_type": "code",
      "source": [
        "prediction = model(data) # faz a previsão da foto aleatória usando a rede pré-treinada, como forward pass\n",
        "loss = (prediction - labels).sum()\n",
        "print(loss) # nova loss após o backprop"
      ],
      "metadata": {
        "colab": {
          "base_uri": "https://localhost:8080/"
        },
        "id": "EWSu-bLdBMDo",
        "outputId": "75c705b7-8899-4c40-9e29-d5e865895e08"
      },
      "execution_count": null,
      "outputs": [
        {
          "output_type": "stream",
          "name": "stdout",
          "text": [
            "tensor(-9618.5059, grad_fn=<SumBackward0>)\n"
          ]
        }
      ]
    },
    {
      "cell_type": "markdown",
      "source": [
        "### Differentiation in Autograd"
      ],
      "metadata": {
        "id": "Qeyy1YpoBpjj"
      }
    },
    {
      "cell_type": "code",
      "source": [
        "a = torch.tensor([2., 3.], requires_grad=True) # gera um vetor com dois valores\n",
        "b = torch.tensor([6., 4.], requires_grad=True) # gera outro vetor com dois valores"
      ],
      "metadata": {
        "id": "iPu-XLmHBoLj"
      },
      "execution_count": null,
      "outputs": []
    },
    {
      "cell_type": "code",
      "source": [
        "Q = 3 * a ** 3 - b ** 2 # cria uma função usando esses vetores, por exemplo: 3 x o cubo da nota - o quadro do tempo = qualificação da prova"
      ],
      "metadata": {
        "id": "1yDc36ZIB_Yh"
      },
      "execution_count": null,
      "outputs": []
    },
    {
      "cell_type": "code",
      "source": [
        "external_grad = torch.tensor([1., 1.]) # pode executar em cima de um vetor exogeno\n",
        "Q.backward(gradient=external_grad)"
      ],
      "metadata": {
        "id": "c4OmWaUxCgFO"
      },
      "execution_count": null,
      "outputs": []
    },
    {
      "cell_type": "code",
      "source": [
        "Q.sum().backward() # ou pode executar a partir de um operação que gera um vetor"
      ],
      "metadata": {
        "colab": {
          "base_uri": "https://localhost:8080/",
          "height": 304
        },
        "id": "3L_ggM9oDCZL",
        "outputId": "f248ea58-ba8e-44f6-b1a5-df44bfb079b5"
      },
      "execution_count": null,
      "outputs": [
        {
          "output_type": "error",
          "ename": "RuntimeError",
          "evalue": "Trying to backward through the graph a second time (or directly access saved tensors after they have already been freed). Saved intermediate values of the graph are freed when you call .backward() or autograd.grad(). Specify retain_graph=True if you need to backward through the graph a second time or if you need to access saved tensors after calling backward.",
          "traceback": [
            "\u001b[0;31m---------------------------------------------------------------------------\u001b[0m",
            "\u001b[0;31mRuntimeError\u001b[0m                              Traceback (most recent call last)",
            "\u001b[0;32m<ipython-input-152-632b01e68959>\u001b[0m in \u001b[0;36m<cell line: 1>\u001b[0;34m()\u001b[0m\n\u001b[0;32m----> 1\u001b[0;31m \u001b[0mQ\u001b[0m\u001b[0;34m.\u001b[0m\u001b[0msum\u001b[0m\u001b[0;34m(\u001b[0m\u001b[0;34m)\u001b[0m\u001b[0;34m.\u001b[0m\u001b[0mbackward\u001b[0m\u001b[0;34m(\u001b[0m\u001b[0;34m)\u001b[0m \u001b[0;31m# ou pode executar a partir de um operação que gera um vetor\u001b[0m\u001b[0;34m\u001b[0m\u001b[0;34m\u001b[0m\u001b[0m\n\u001b[0m",
            "\u001b[0;32m/usr/local/lib/python3.10/dist-packages/torch/_tensor.py\u001b[0m in \u001b[0;36mbackward\u001b[0;34m(self, gradient, retain_graph, create_graph, inputs)\u001b[0m\n\u001b[1;32m    523\u001b[0m                 \u001b[0minputs\u001b[0m\u001b[0;34m=\u001b[0m\u001b[0minputs\u001b[0m\u001b[0;34m,\u001b[0m\u001b[0;34m\u001b[0m\u001b[0;34m\u001b[0m\u001b[0m\n\u001b[1;32m    524\u001b[0m             )\n\u001b[0;32m--> 525\u001b[0;31m         torch.autograd.backward(\n\u001b[0m\u001b[1;32m    526\u001b[0m             \u001b[0mself\u001b[0m\u001b[0;34m,\u001b[0m \u001b[0mgradient\u001b[0m\u001b[0;34m,\u001b[0m \u001b[0mretain_graph\u001b[0m\u001b[0;34m,\u001b[0m \u001b[0mcreate_graph\u001b[0m\u001b[0;34m,\u001b[0m \u001b[0minputs\u001b[0m\u001b[0;34m=\u001b[0m\u001b[0minputs\u001b[0m\u001b[0;34m\u001b[0m\u001b[0;34m\u001b[0m\u001b[0m\n\u001b[1;32m    527\u001b[0m         )\n",
            "\u001b[0;32m/usr/local/lib/python3.10/dist-packages/torch/autograd/__init__.py\u001b[0m in \u001b[0;36mbackward\u001b[0;34m(tensors, grad_tensors, retain_graph, create_graph, grad_variables, inputs)\u001b[0m\n\u001b[1;32m    265\u001b[0m     \u001b[0;31m# some Python versions print out the first line of a multi-line function\u001b[0m\u001b[0;34m\u001b[0m\u001b[0;34m\u001b[0m\u001b[0m\n\u001b[1;32m    266\u001b[0m     \u001b[0;31m# calls in the traceback and some print out the last line\u001b[0m\u001b[0;34m\u001b[0m\u001b[0;34m\u001b[0m\u001b[0m\n\u001b[0;32m--> 267\u001b[0;31m     _engine_run_backward(\n\u001b[0m\u001b[1;32m    268\u001b[0m         \u001b[0mtensors\u001b[0m\u001b[0;34m,\u001b[0m\u001b[0;34m\u001b[0m\u001b[0;34m\u001b[0m\u001b[0m\n\u001b[1;32m    269\u001b[0m         \u001b[0mgrad_tensors_\u001b[0m\u001b[0;34m,\u001b[0m\u001b[0;34m\u001b[0m\u001b[0;34m\u001b[0m\u001b[0m\n",
            "\u001b[0;32m/usr/local/lib/python3.10/dist-packages/torch/autograd/graph.py\u001b[0m in \u001b[0;36m_engine_run_backward\u001b[0;34m(t_outputs, *args, **kwargs)\u001b[0m\n\u001b[1;32m    742\u001b[0m         \u001b[0munregister_hooks\u001b[0m \u001b[0;34m=\u001b[0m \u001b[0m_register_logging_hooks_on_whole_graph\u001b[0m\u001b[0;34m(\u001b[0m\u001b[0mt_outputs\u001b[0m\u001b[0;34m)\u001b[0m\u001b[0;34m\u001b[0m\u001b[0;34m\u001b[0m\u001b[0m\n\u001b[1;32m    743\u001b[0m     \u001b[0;32mtry\u001b[0m\u001b[0;34m:\u001b[0m\u001b[0;34m\u001b[0m\u001b[0;34m\u001b[0m\u001b[0m\n\u001b[0;32m--> 744\u001b[0;31m         return Variable._execution_engine.run_backward(  # Calls into the C++ engine to run the backward pass\n\u001b[0m\u001b[1;32m    745\u001b[0m             \u001b[0mt_outputs\u001b[0m\u001b[0;34m,\u001b[0m \u001b[0;34m*\u001b[0m\u001b[0margs\u001b[0m\u001b[0;34m,\u001b[0m \u001b[0;34m**\u001b[0m\u001b[0mkwargs\u001b[0m\u001b[0;34m\u001b[0m\u001b[0;34m\u001b[0m\u001b[0m\n\u001b[1;32m    746\u001b[0m         )  # Calls into the C++ engine to run the backward pass\n",
            "\u001b[0;31mRuntimeError\u001b[0m: Trying to backward through the graph a second time (or directly access saved tensors after they have already been freed). Saved intermediate values of the graph are freed when you call .backward() or autograd.grad(). Specify retain_graph=True if you need to backward through the graph a second time or if you need to access saved tensors after calling backward."
          ]
        }
      ]
    },
    {
      "cell_type": "code",
      "source": [
        "print(a.grad)\n",
        "print(b.grad)"
      ],
      "metadata": {
        "colab": {
          "base_uri": "https://localhost:8080/"
        },
        "id": "9V1dlS-FDatA",
        "outputId": "d1f2358d-97b2-4fe0-ecd7-73c9a71da1e8"
      },
      "execution_count": null,
      "outputs": [
        {
          "output_type": "stream",
          "name": "stdout",
          "text": [
            "tensor([36., 81.])\n",
            "tensor([-12.,  -8.])\n"
          ]
        }
      ]
    },
    {
      "cell_type": "code",
      "source": [
        "print(9*a**2 == a.grad) # 9*a*2 é a derivada parcial de (3 * a ** 3)\n",
        "print(-2*b == b.grad) # -*b é a derivada parcial de (-b ** 2)"
      ],
      "metadata": {
        "colab": {
          "base_uri": "https://localhost:8080/"
        },
        "id": "uCsahd6NDaKm",
        "outputId": "047c5356-ed07-4b1d-8a69-ba87117b9bdf"
      },
      "execution_count": null,
      "outputs": [
        {
          "output_type": "stream",
          "name": "stdout",
          "text": [
            "tensor([True, True])\n",
            "tensor([True, True])\n"
          ]
        }
      ]
    },
    {
      "cell_type": "markdown",
      "source": [
        "![image.png](data:image/png;base64,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)"
      ],
      "metadata": {
        "id": "RknSDAcwFsLv"
      }
    },
    {
      "cell_type": "markdown",
      "source": [
        "A variável \"a\" recebe duas operações, multiplicação e exponenciação, o ramo esquerdo da dag do autograd, enquanto a variável \"b\" só a exponenciação, o ramo direito."
      ],
      "metadata": {
        "id": "H2KaLGCPFx0U"
      }
    },
    {
      "cell_type": "code",
      "source": [
        "x = torch.rand(5, 5)\n",
        "y = torch.rand(5, 5)\n",
        "z = torch.rand((5, 5), requires_grad=True) # basta uma variável ter o requires_grad, que já funciona para toda a função"
      ],
      "metadata": {
        "id": "-wxgnL82ENyA"
      },
      "execution_count": null,
      "outputs": []
    },
    {
      "cell_type": "code",
      "source": [
        "a = x + y\n",
        "print(a) # sem z, sem grad"
      ],
      "metadata": {
        "colab": {
          "base_uri": "https://localhost:8080/"
        },
        "id": "EZ1zJA-BHe3B",
        "outputId": "03b18d17-6585-444d-89ea-66a2ab84ed2b"
      },
      "execution_count": null,
      "outputs": [
        {
          "output_type": "stream",
          "name": "stdout",
          "text": [
            "tensor([[0.8889, 0.9761, 0.7513, 1.7335, 1.1430],\n",
            "        [0.5002, 0.7103, 1.0294, 1.4617, 1.1014],\n",
            "        [0.7412, 1.1287, 1.2317, 0.5068, 1.4506],\n",
            "        [0.1265, 1.5103, 1.5998, 0.9694, 0.8138],\n",
            "        [0.9165, 1.6642, 0.9558, 1.1758, 1.5002]])\n",
            "False\n"
          ]
        }
      ]
    },
    {
      "cell_type": "code",
      "source": [
        "b = x + z # com z, com grad\n",
        "print(b)"
      ],
      "metadata": {
        "colab": {
          "base_uri": "https://localhost:8080/"
        },
        "id": "hrr8Z4ZXHjRj",
        "outputId": "68c0766f-11ea-42a3-bbc7-8eb8c37ba8ee"
      },
      "execution_count": null,
      "outputs": [
        {
          "output_type": "stream",
          "name": "stdout",
          "text": [
            "tensor([[1.5950, 0.6901, 0.9055, 1.2670, 0.9565],\n",
            "        [0.9701, 1.0836, 0.9896, 1.2678, 1.4646],\n",
            "        [1.1001, 0.8376, 1.3672, 0.3762, 0.6150],\n",
            "        [0.7472, 0.8308, 1.0504, 1.1554, 1.2311],\n",
            "        [1.3858, 1.1044, 1.2891, 0.6320, 0.9666]], grad_fn=<AddBackward0>)\n"
          ]
        }
      ]
    },
    {
      "cell_type": "code",
      "source": [
        "from torch import nn, optim\n",
        "\n",
        "model = resnet18(weights=ResNet18_Weights.DEFAULT)\n",
        "\n",
        "# Congela todos os parâmetros para não sofrer mudanças com o autograd, essa rede não muda.\n",
        "for param in model.parameters():\n",
        "    param.requires_grad = False"
      ],
      "metadata": {
        "id": "_RRoaEm7H348"
      },
      "execution_count": null,
      "outputs": []
    },
    {
      "cell_type": "code",
      "source": [
        "model"
      ],
      "metadata": {
        "colab": {
          "base_uri": "https://localhost:8080/"
        },
        "id": "_EJWRpciIv3X",
        "outputId": "04acfeb2-092d-43ce-c884-7346518b6362"
      },
      "execution_count": null,
      "outputs": [
        {
          "output_type": "execute_result",
          "data": {
            "text/plain": [
              "ResNet(\n",
              "  (conv1): Conv2d(3, 64, kernel_size=(7, 7), stride=(2, 2), padding=(3, 3), bias=False)\n",
              "  (bn1): BatchNorm2d(64, eps=1e-05, momentum=0.1, affine=True, track_running_stats=True)\n",
              "  (relu): ReLU(inplace=True)\n",
              "  (maxpool): MaxPool2d(kernel_size=3, stride=2, padding=1, dilation=1, ceil_mode=False)\n",
              "  (layer1): Sequential(\n",
              "    (0): BasicBlock(\n",
              "      (conv1): Conv2d(64, 64, kernel_size=(3, 3), stride=(1, 1), padding=(1, 1), bias=False)\n",
              "      (bn1): BatchNorm2d(64, eps=1e-05, momentum=0.1, affine=True, track_running_stats=True)\n",
              "      (relu): ReLU(inplace=True)\n",
              "      (conv2): Conv2d(64, 64, kernel_size=(3, 3), stride=(1, 1), padding=(1, 1), bias=False)\n",
              "      (bn2): BatchNorm2d(64, eps=1e-05, momentum=0.1, affine=True, track_running_stats=True)\n",
              "    )\n",
              "    (1): BasicBlock(\n",
              "      (conv1): Conv2d(64, 64, kernel_size=(3, 3), stride=(1, 1), padding=(1, 1), bias=False)\n",
              "      (bn1): BatchNorm2d(64, eps=1e-05, momentum=0.1, affine=True, track_running_stats=True)\n",
              "      (relu): ReLU(inplace=True)\n",
              "      (conv2): Conv2d(64, 64, kernel_size=(3, 3), stride=(1, 1), padding=(1, 1), bias=False)\n",
              "      (bn2): BatchNorm2d(64, eps=1e-05, momentum=0.1, affine=True, track_running_stats=True)\n",
              "    )\n",
              "  )\n",
              "  (layer2): Sequential(\n",
              "    (0): BasicBlock(\n",
              "      (conv1): Conv2d(64, 128, kernel_size=(3, 3), stride=(2, 2), padding=(1, 1), bias=False)\n",
              "      (bn1): BatchNorm2d(128, eps=1e-05, momentum=0.1, affine=True, track_running_stats=True)\n",
              "      (relu): ReLU(inplace=True)\n",
              "      (conv2): Conv2d(128, 128, kernel_size=(3, 3), stride=(1, 1), padding=(1, 1), bias=False)\n",
              "      (bn2): BatchNorm2d(128, eps=1e-05, momentum=0.1, affine=True, track_running_stats=True)\n",
              "      (downsample): Sequential(\n",
              "        (0): Conv2d(64, 128, kernel_size=(1, 1), stride=(2, 2), bias=False)\n",
              "        (1): BatchNorm2d(128, eps=1e-05, momentum=0.1, affine=True, track_running_stats=True)\n",
              "      )\n",
              "    )\n",
              "    (1): BasicBlock(\n",
              "      (conv1): Conv2d(128, 128, kernel_size=(3, 3), stride=(1, 1), padding=(1, 1), bias=False)\n",
              "      (bn1): BatchNorm2d(128, eps=1e-05, momentum=0.1, affine=True, track_running_stats=True)\n",
              "      (relu): ReLU(inplace=True)\n",
              "      (conv2): Conv2d(128, 128, kernel_size=(3, 3), stride=(1, 1), padding=(1, 1), bias=False)\n",
              "      (bn2): BatchNorm2d(128, eps=1e-05, momentum=0.1, affine=True, track_running_stats=True)\n",
              "    )\n",
              "  )\n",
              "  (layer3): Sequential(\n",
              "    (0): BasicBlock(\n",
              "      (conv1): Conv2d(128, 256, kernel_size=(3, 3), stride=(2, 2), padding=(1, 1), bias=False)\n",
              "      (bn1): BatchNorm2d(256, eps=1e-05, momentum=0.1, affine=True, track_running_stats=True)\n",
              "      (relu): ReLU(inplace=True)\n",
              "      (conv2): Conv2d(256, 256, kernel_size=(3, 3), stride=(1, 1), padding=(1, 1), bias=False)\n",
              "      (bn2): BatchNorm2d(256, eps=1e-05, momentum=0.1, affine=True, track_running_stats=True)\n",
              "      (downsample): Sequential(\n",
              "        (0): Conv2d(128, 256, kernel_size=(1, 1), stride=(2, 2), bias=False)\n",
              "        (1): BatchNorm2d(256, eps=1e-05, momentum=0.1, affine=True, track_running_stats=True)\n",
              "      )\n",
              "    )\n",
              "    (1): BasicBlock(\n",
              "      (conv1): Conv2d(256, 256, kernel_size=(3, 3), stride=(1, 1), padding=(1, 1), bias=False)\n",
              "      (bn1): BatchNorm2d(256, eps=1e-05, momentum=0.1, affine=True, track_running_stats=True)\n",
              "      (relu): ReLU(inplace=True)\n",
              "      (conv2): Conv2d(256, 256, kernel_size=(3, 3), stride=(1, 1), padding=(1, 1), bias=False)\n",
              "      (bn2): BatchNorm2d(256, eps=1e-05, momentum=0.1, affine=True, track_running_stats=True)\n",
              "    )\n",
              "  )\n",
              "  (layer4): Sequential(\n",
              "    (0): BasicBlock(\n",
              "      (conv1): Conv2d(256, 512, kernel_size=(3, 3), stride=(2, 2), padding=(1, 1), bias=False)\n",
              "      (bn1): BatchNorm2d(512, eps=1e-05, momentum=0.1, affine=True, track_running_stats=True)\n",
              "      (relu): ReLU(inplace=True)\n",
              "      (conv2): Conv2d(512, 512, kernel_size=(3, 3), stride=(1, 1), padding=(1, 1), bias=False)\n",
              "      (bn2): BatchNorm2d(512, eps=1e-05, momentum=0.1, affine=True, track_running_stats=True)\n",
              "      (downsample): Sequential(\n",
              "        (0): Conv2d(256, 512, kernel_size=(1, 1), stride=(2, 2), bias=False)\n",
              "        (1): BatchNorm2d(512, eps=1e-05, momentum=0.1, affine=True, track_running_stats=True)\n",
              "      )\n",
              "    )\n",
              "    (1): BasicBlock(\n",
              "      (conv1): Conv2d(512, 512, kernel_size=(3, 3), stride=(1, 1), padding=(1, 1), bias=False)\n",
              "      (bn1): BatchNorm2d(512, eps=1e-05, momentum=0.1, affine=True, track_running_stats=True)\n",
              "      (relu): ReLU(inplace=True)\n",
              "      (conv2): Conv2d(512, 512, kernel_size=(3, 3), stride=(1, 1), padding=(1, 1), bias=False)\n",
              "      (bn2): BatchNorm2d(512, eps=1e-05, momentum=0.1, affine=True, track_running_stats=True)\n",
              "    )\n",
              "  )\n",
              "  (avgpool): AdaptiveAvgPool2d(output_size=(1, 1))\n",
              "  (fc): Linear(in_features=512, out_features=1000, bias=True)\n",
              ")"
            ]
          },
          "metadata": {},
          "execution_count": 170
        }
      ]
    },
    {
      "cell_type": "code",
      "source": [
        "model.fc = nn.Linear(512, 10) # cria uma nova camada de saída com 10 classes, que não está congelada, e substitui a original de 1000 classes"
      ],
      "metadata": {
        "id": "vE07rTyfIs72"
      },
      "execution_count": null,
      "outputs": []
    },
    {
      "cell_type": "code",
      "source": [
        "optimizer = optim.SGD(model.parameters(), lr=1e-2, momentum=0.9)"
      ],
      "metadata": {
        "id": "BY7RiWHUI6QI"
      },
      "execution_count": null,
      "outputs": []
    },
    {
      "cell_type": "code",
      "source": [
        "optimizer.step()"
      ],
      "metadata": {
        "id": "p6VrnBpcJJvx"
      },
      "execution_count": null,
      "outputs": []
    },
    {
      "cell_type": "code",
      "source": [
        "torch.no_grad() # também congela os pesos"
      ],
      "metadata": {
        "id": "ryBdk2QpJUAj"
      },
      "execution_count": null,
      "outputs": []
    },
    {
      "cell_type": "markdown",
      "source": [
        "## Neural Networks"
      ],
      "metadata": {
        "id": "uaHwsj_6JZ2y"
      }
    },
    {
      "cell_type": "code",
      "source": [
        "import torch\n",
        "import torch.nn as nn\n",
        "import torch.nn.functional as F"
      ],
      "metadata": {
        "id": "GNIVfNpKJZWG"
      },
      "execution_count": 1,
      "outputs": []
    },
    {
      "cell_type": "markdown",
      "source": [
        "### Construção da rede"
      ],
      "metadata": {
        "id": "vnbUe8Nmzm0Z"
      }
    },
    {
      "cell_type": "code",
      "source": [
        "# Cria uma CNN\n",
        "\n",
        "class Net(nn.Module):\n",
        "\n",
        "    def __init__(self):\n",
        "        super(Net, self).__init__()\n",
        "        # 1 input image channel, 6 output channels, 5x5 square convolution\n",
        "        # kernel\n",
        "        self.conv1 = nn.Conv2d(1, 6, 5)\n",
        "        self.conv2 = nn.Conv2d(6, 16, 5)\n",
        "        # an affine operation: y = Wx + b\n",
        "        self.fc1 = nn.Linear(16 * 5 * 5, 120)  # 5*5 from image dimension\n",
        "        self.fc2 = nn.Linear(120, 84)\n",
        "        self.fc3 = nn.Linear(84, 10)\n",
        "\n",
        "    def forward(self, input):\n",
        "        # Convolution layer C1: 1 input image channel, 6 output channels,\n",
        "        # 5x5 square convolution, it uses RELU activation function, and\n",
        "        # outputs a Tensor with size (N, 6, 28, 28), where N is the size of the batch\n",
        "        c1 = F.relu(self.conv1(input))\n",
        "        # Subsampling layer S2: 2x2 grid, purely functional,\n",
        "        # this layer does not have any parameter, and outputs a (N, 6, 14, 14) Tensor\n",
        "        s2 = F.max_pool2d(c1, (2, 2))\n",
        "        # Convolution layer C3: 6 input channels, 16 output channels,\n",
        "        # 5x5 square convolution, it uses RELU activation function, and\n",
        "        # outputs a (N, 16, 10, 10) Tensor\n",
        "        c3 = F.relu(self.conv2(s2))\n",
        "        # Subsampling layer S4: 2x2 grid, purely functional,\n",
        "        # this layer does not have any parameter, and outputs a (N, 16, 5, 5) Tensor\n",
        "        s4 = F.max_pool2d(c3, 2)\n",
        "        # Flatten operation: purely functional, outputs a (N, 400) Tensor\n",
        "        s4 = torch.flatten(s4, 1)\n",
        "        # Fully connected layer F5: (N, 400) Tensor input,\n",
        "        # and outputs a (N, 120) Tensor, it uses RELU activation function\n",
        "        f5 = F.relu(self.fc1(s4))\n",
        "        # Fully connected layer F6: (N, 120) Tensor input,\n",
        "        # and outputs a (N, 84) Tensor, it uses RELU activation function\n",
        "        f6 = F.relu(self.fc2(f5))\n",
        "        # Gaussian layer OUTPUT: (N, 84) Tensor input, and\n",
        "        # outputs a (N, 10) Tensor\n",
        "        output = self.fc3(f6)\n",
        "        return output\n",
        "\n",
        "\n",
        "net = Net()\n",
        "print(net)"
      ],
      "metadata": {
        "id": "G29Ir8uyJiME",
        "colab": {
          "base_uri": "https://localhost:8080/"
        },
        "outputId": "e720bd68-83d0-49a9-efb5-342ad9ac4126"
      },
      "execution_count": 2,
      "outputs": [
        {
          "output_type": "stream",
          "name": "stdout",
          "text": [
            "Net(\n",
            "  (conv1): Conv2d(1, 6, kernel_size=(5, 5), stride=(1, 1))\n",
            "  (conv2): Conv2d(6, 16, kernel_size=(5, 5), stride=(1, 1))\n",
            "  (fc1): Linear(in_features=400, out_features=120, bias=True)\n",
            "  (fc2): Linear(in_features=120, out_features=84, bias=True)\n",
            "  (fc3): Linear(in_features=84, out_features=10, bias=True)\n",
            ")\n"
          ]
        }
      ]
    },
    {
      "cell_type": "markdown",
      "source": [
        "### Previsão"
      ],
      "metadata": {
        "id": "5V7RfdMLzq1q"
      }
    },
    {
      "cell_type": "code",
      "source": [
        "params = list(net.parameters())\n",
        "print(len(params))\n",
        "print(params[0].size())  # conv1's .weight"
      ],
      "metadata": {
        "colab": {
          "base_uri": "https://localhost:8080/"
        },
        "id": "teNtxRtMwvCj",
        "outputId": "6732455f-cfd8-4783-96b8-b6af06be1181"
      },
      "execution_count": 6,
      "outputs": [
        {
          "output_type": "stream",
          "name": "stdout",
          "text": [
            "10\n",
            "torch.Size([6, 1, 5, 5])\n"
          ]
        }
      ]
    },
    {
      "cell_type": "code",
      "source": [
        "input = torch.randn(1, 1, 32, 32)\n",
        "out = net(input)\n",
        "print(out)"
      ],
      "metadata": {
        "colab": {
          "base_uri": "https://localhost:8080/"
        },
        "id": "K0T9GIOsxNkF",
        "outputId": "a5afcd3b-5f7e-40e7-c1ca-5d5f217958ac"
      },
      "execution_count": 8,
      "outputs": [
        {
          "output_type": "stream",
          "name": "stdout",
          "text": [
            "tensor([[-0.0127,  0.0854,  0.0651, -0.0727, -0.0246,  0.0197,  0.0747,  0.0348,\n",
            "          0.1324, -0.1191]], grad_fn=<AddmmBackward0>)\n"
          ]
        }
      ]
    },
    {
      "cell_type": "code",
      "source": [
        "out.argmax() # identifica a classe com maior probabilidade"
      ],
      "metadata": {
        "colab": {
          "base_uri": "https://localhost:8080/"
        },
        "id": "LwMK1jpAxSZd",
        "outputId": "05dba843-c328-4b4d-bee5-2b24f800c358"
      },
      "execution_count": 12,
      "outputs": [
        {
          "output_type": "execute_result",
          "data": {
            "text/plain": [
              "tensor(8)"
            ]
          },
          "metadata": {},
          "execution_count": 12
        }
      ]
    },
    {
      "cell_type": "code",
      "source": [
        "net.zero_grad()\n",
        "out.backward(torch.randn(1, 10))"
      ],
      "metadata": {
        "id": "ob1xJ3KsxXKM"
      },
      "execution_count": 13,
      "outputs": []
    },
    {
      "cell_type": "markdown",
      "source": [
        "### Aprendizado"
      ],
      "metadata": {
        "id": "dYMN6doOztrt"
      }
    },
    {
      "cell_type": "code",
      "source": [
        "output = net(input) # faz a previsão\n",
        "target = torch.randn(10)  # define uma classe aleatoria para a entrada aleatoria\n",
        "target = target.view(1, -1)  # converte o vetor de classes anterior em um vetor de saída da rede\n",
        "criterion = nn.MSELoss() # define a função de perda como MSE\n",
        "\n",
        "loss = criterion(output, target) # calcula o função de perda da previsão\n",
        "print(loss)"
      ],
      "metadata": {
        "colab": {
          "base_uri": "https://localhost:8080/"
        },
        "id": "pZzzVBCix3mH",
        "outputId": "4f9bbf1d-16fb-4e18-de97-b7190d2d5cd2"
      },
      "execution_count": 14,
      "outputs": [
        {
          "output_type": "stream",
          "name": "stdout",
          "text": [
            "tensor(1.4934, grad_fn=<MseLossBackward0>)\n"
          ]
        }
      ]
    },
    {
      "cell_type": "code",
      "source": [
        "#Backpropagation steps\n",
        "\n",
        "print(loss.grad_fn)  # MSELoss\n",
        "print(loss.grad_fn.next_functions[0][0])  # Linear\n",
        "print(loss.grad_fn.next_functions[0][0].next_functions[0][0])  # ReLU"
      ],
      "metadata": {
        "colab": {
          "base_uri": "https://localhost:8080/"
        },
        "id": "vJmKLalsykuS",
        "outputId": "036a4f28-85a4-4c48-b774-a2ed8ce58e9f"
      },
      "execution_count": 17,
      "outputs": [
        {
          "output_type": "stream",
          "name": "stdout",
          "text": [
            "<MseLossBackward0 object at 0x7a3b307e3f70>\n",
            "<AddmmBackward0 object at 0x7a3b307e1b10>\n",
            "<AccumulateGrad object at 0x7a3b307e3460>\n"
          ]
        }
      ]
    },
    {
      "cell_type": "code",
      "source": [
        "net.zero_grad()     # zeroes the gradient buffers of all parameters\n",
        "\n",
        "print('conv1.bias.grad before backward')\n",
        "print(net.conv1.bias.grad)\n",
        "\n",
        "loss.backward()\n",
        "\n",
        "print('conv1.bias.grad after backward')\n",
        "print(net.conv1.bias.grad)"
      ],
      "metadata": {
        "colab": {
          "base_uri": "https://localhost:8080/"
        },
        "id": "c0AMfq9tywT0",
        "outputId": "4e8e7afb-7716-4300-c7e6-51b23d68d904"
      },
      "execution_count": 18,
      "outputs": [
        {
          "output_type": "stream",
          "name": "stdout",
          "text": [
            "conv1.bias.grad before backward\n",
            "None\n",
            "conv1.bias.grad after backward\n",
            "tensor([ 0.0058,  0.0167,  0.0008, -0.0239,  0.0324, -0.0127])\n"
          ]
        }
      ]
    },
    {
      "cell_type": "code",
      "source": [
        "learning_rate = 0.01\n",
        "for f in net.parameters():\n",
        "    f.data.sub_(f.grad.data * learning_rate)"
      ],
      "metadata": {
        "id": "zKXV-YKvzZ9u"
      },
      "execution_count": 20,
      "outputs": []
    },
    {
      "cell_type": "markdown",
      "source": [
        "### Otimização"
      ],
      "metadata": {
        "id": "zrfKnK_wzkwC"
      }
    },
    {
      "cell_type": "code",
      "source": [
        "import torch.optim as optim\n",
        "\n",
        "optimizer = optim.SGD(net.parameters(), lr=0.01) # define o algoritmo de otimização\n",
        "\n",
        "optimizer.zero_grad()   # zera os gradientes do autograd\n",
        "output = net(input) # executa passo para frente\n",
        "loss = criterion(output, target) # calcula a perda\n",
        "loss.backward() # executa passo para trás\n",
        "optimizer.step() # atualiza os pesos"
      ],
      "metadata": {
        "id": "-g6hQYf0zeUQ"
      },
      "execution_count": 21,
      "outputs": []
    },
    {
      "cell_type": "markdown",
      "source": [
        "## Training a Classifier"
      ],
      "metadata": {
        "id": "q9sZ24cw0nlJ"
      }
    },
    {
      "cell_type": "code",
      "source": [
        "import torch\n",
        "import torchvision\n",
        "import torchvision.transforms as transforms"
      ],
      "metadata": {
        "id": "Enuo2FTZ0qZK"
      },
      "execution_count": 1,
      "outputs": []
    },
    {
      "cell_type": "code",
      "source": [
        "transform = transforms.Compose(\n",
        "    [transforms.ToTensor(),\n",
        "     transforms.Normalize((0.5, 0.5, 0.5), (0.5, 0.5, 0.5))])"
      ],
      "metadata": {
        "id": "J1hUWqXi0qsO"
      },
      "execution_count": 2,
      "outputs": []
    },
    {
      "cell_type": "code",
      "source": [
        "batch_size = 4"
      ],
      "metadata": {
        "id": "d2WHraNl1IEC"
      },
      "execution_count": 3,
      "outputs": []
    },
    {
      "cell_type": "code",
      "source": [
        "trainset = torchvision.datasets.CIFAR10(root='./data', train=True,\n",
        "                                        download=True, transform=transform)"
      ],
      "metadata": {
        "colab": {
          "base_uri": "https://localhost:8080/"
        },
        "id": "yIpIGSWm1L_T",
        "outputId": "3573ca46-05e6-44a8-f5bd-19b372e224b2"
      },
      "execution_count": 4,
      "outputs": [
        {
          "output_type": "stream",
          "name": "stdout",
          "text": [
            "Files already downloaded and verified\n"
          ]
        }
      ]
    },
    {
      "cell_type": "code",
      "source": [
        "trainloader = torch.utils.data.DataLoader(trainset, batch_size=batch_size,\n",
        "                                          shuffle=True, num_workers=2)"
      ],
      "metadata": {
        "id": "nbbysCMn1THP"
      },
      "execution_count": 10,
      "outputs": []
    },
    {
      "cell_type": "code",
      "source": [
        "testset = torchvision.datasets.CIFAR10(root='./data', train=False,\n",
        "                                       download=True, transform=transform)"
      ],
      "metadata": {
        "colab": {
          "base_uri": "https://localhost:8080/"
        },
        "id": "TH2AB9mp1WRP",
        "outputId": "ad4b8469-2002-492d-b90c-559693abde25"
      },
      "execution_count": 11,
      "outputs": [
        {
          "output_type": "stream",
          "name": "stdout",
          "text": [
            "Files already downloaded and verified\n"
          ]
        }
      ]
    },
    {
      "cell_type": "code",
      "source": [
        "testloader = torch.utils.data.DataLoader(testset, batch_size=batch_size,\n",
        "                                         shuffle=False, num_workers=2)\n"
      ],
      "metadata": {
        "id": "9US2PTaY1Wi4"
      },
      "execution_count": 12,
      "outputs": []
    },
    {
      "cell_type": "code",
      "source": [
        "classes = ('plane', 'car', 'bird', 'cat',\n",
        "           'deer', 'dog', 'frog', 'horse', 'ship', 'truck')"
      ],
      "metadata": {
        "id": "YGUCSQ3L1lrF"
      },
      "execution_count": 13,
      "outputs": []
    },
    {
      "cell_type": "code",
      "source": [
        "import matplotlib.pyplot as plt\n",
        "import numpy as np"
      ],
      "metadata": {
        "id": "znQBsWhA1oqf"
      },
      "execution_count": 14,
      "outputs": []
    },
    {
      "cell_type": "code",
      "source": [
        "# functions to show an image\n",
        "\n",
        "def show_image(img):\n",
        "    img = img / 2 + 0.5     # unnormalize\n",
        "    npimg = img.numpy()\n",
        "    plt.imshow(np.transpose(npimg, (1, 2, 0)))\n",
        "    plt.show()"
      ],
      "metadata": {
        "id": "TKqOZNTQ1tzB"
      },
      "execution_count": 15,
      "outputs": []
    },
    {
      "cell_type": "code",
      "source": [
        "# get some random training images\n",
        "dataiter = iter(trainloader)\n",
        "images, labels = next(dataiter)\n",
        "print(images)\n",
        "print(labels)"
      ],
      "metadata": {
        "colab": {
          "base_uri": "https://localhost:8080/"
        },
        "id": "y21c0Hla1wdL",
        "outputId": "dce097a0-2543-4b41-8272-80490992705b"
      },
      "execution_count": 16,
      "outputs": [
        {
          "output_type": "stream",
          "name": "stdout",
          "text": [
            "tensor([[[[ 0.6941,  0.7882,  0.3725,  ...,  0.9843,  0.9765,  0.9843],\n",
            "          [-0.1765, -0.1451, -0.1765,  ...,  0.9843,  0.9686,  0.9765],\n",
            "          [-0.0196, -0.0745, -0.2000,  ...,  0.9922,  0.9843,  0.9843],\n",
            "          ...,\n",
            "          [ 0.0588,  0.0510,  0.0824,  ...,  0.1686,  0.1137,  0.0824],\n",
            "          [ 0.1373,  0.1137,  0.1137,  ...,  0.1451,  0.1451,  0.1294],\n",
            "          [ 0.0745,  0.0745,  0.0745,  ...,  0.1294,  0.1216,  0.1137]],\n",
            "\n",
            "         [[ 0.6941,  0.7804,  0.3098,  ...,  0.9843,  0.9843,  1.0000],\n",
            "          [-0.2471, -0.1686, -0.2235,  ...,  0.9765,  0.9765,  1.0000],\n",
            "          [-0.1373, -0.1216, -0.2471,  ...,  0.9922,  0.9922,  1.0000],\n",
            "          ...,\n",
            "          [ 0.0118,  0.0039,  0.0353,  ...,  0.1294,  0.0745,  0.0431],\n",
            "          [ 0.0902,  0.0667,  0.0667,  ...,  0.1059,  0.1059,  0.0902],\n",
            "          [ 0.0275,  0.0275,  0.0275,  ...,  0.0902,  0.0824,  0.0667]],\n",
            "\n",
            "         [[ 0.6784,  0.7647,  0.3176,  ...,  0.9843,  0.9765,  1.0000],\n",
            "          [-0.2392, -0.1765, -0.2235,  ...,  0.9765,  0.9765,  1.0000],\n",
            "          [-0.1451, -0.1529, -0.2784,  ...,  0.9843,  0.9843,  1.0000],\n",
            "          ...,\n",
            "          [ 0.0118,  0.0039,  0.0353,  ...,  0.1059,  0.0510,  0.0196],\n",
            "          [ 0.0902,  0.0745,  0.0667,  ...,  0.0824,  0.0824,  0.0667],\n",
            "          [ 0.0275,  0.0275,  0.0275,  ...,  0.0588,  0.0588,  0.0431]]],\n",
            "\n",
            "\n",
            "        [[[-0.5922, -0.5922, -0.5451,  ..., -0.5608, -0.5529, -0.5608],\n",
            "          [-0.5137, -0.5373, -0.5765,  ..., -0.5843, -0.6314, -0.6471],\n",
            "          [-0.5216, -0.5216, -0.5294,  ..., -0.4902, -0.6235, -0.6392],\n",
            "          ...,\n",
            "          [ 0.1373,  0.0745,  0.0588,  ...,  0.0275,  0.0039, -0.0667],\n",
            "          [ 0.1451,  0.1373,  0.1294,  ..., -0.3569, -0.2549, -0.1843],\n",
            "          [ 0.1765,  0.1922,  0.2078,  ..., -0.3647, -0.2000, -0.0902]],\n",
            "\n",
            "         [[-0.5608, -0.5765, -0.5294,  ..., -0.5765, -0.5686, -0.5686],\n",
            "          [-0.5137, -0.5294, -0.5608,  ..., -0.6157, -0.6549, -0.6627],\n",
            "          [-0.5373, -0.5216, -0.5137,  ..., -0.5294, -0.6627, -0.6627],\n",
            "          ...,\n",
            "          [-0.0118, -0.0745, -0.0902,  ..., -0.1608, -0.2078, -0.2784],\n",
            "          [-0.0118, -0.0118, -0.0196,  ..., -0.5137, -0.4431, -0.3804],\n",
            "          [ 0.0275,  0.0431,  0.0588,  ..., -0.5059, -0.3647, -0.2627]],\n",
            "\n",
            "         [[-0.6078, -0.6157, -0.5686,  ..., -0.5843, -0.5765, -0.5843],\n",
            "          [-0.5765, -0.5843, -0.6078,  ..., -0.6392, -0.6863, -0.7020],\n",
            "          [-0.6235, -0.5922, -0.5686,  ..., -0.5765, -0.7176, -0.7333],\n",
            "          ...,\n",
            "          [-0.0667, -0.1294, -0.1451,  ..., -0.2078, -0.2392, -0.3098],\n",
            "          [-0.0667, -0.0667, -0.0745,  ..., -0.5686, -0.4902, -0.4118],\n",
            "          [-0.0275, -0.0118,  0.0039,  ..., -0.5529, -0.4039, -0.2784]]],\n",
            "\n",
            "\n",
            "        [[[ 0.1451,  0.1686,  0.1922,  ...,  0.2078, -0.0039, -0.1451],\n",
            "          [ 0.3255,  0.2471,  0.2471,  ...,  0.1608, -0.0039, -0.1216],\n",
            "          [ 0.2314,  0.0353, -0.1059,  ...,  0.1686,  0.0039, -0.1686],\n",
            "          ...,\n",
            "          [-0.3569, -0.2549, -0.3725,  ..., -0.4196, -0.0745, -0.0039],\n",
            "          [ 0.0196,  0.1216, -0.0196,  ..., -0.2000, -0.1059, -0.1922],\n",
            "          [ 0.0039,  0.1216, -0.1608,  ..., -0.3804, -0.4510, -0.4353]],\n",
            "\n",
            "         [[ 0.0667,  0.0824,  0.1059,  ...,  0.0275, -0.0745, -0.1843],\n",
            "          [ 0.2235,  0.1294,  0.1216,  ...,  0.0588, -0.0431, -0.0980],\n",
            "          [ 0.1529, -0.0510, -0.2078,  ...,  0.1216, -0.0196, -0.0902],\n",
            "          ...,\n",
            "          [-0.4588, -0.3725, -0.4353,  ..., -0.4353, -0.0588,  0.0431],\n",
            "          [-0.2235, -0.1529, -0.2549,  ..., -0.1451, -0.0196, -0.1059],\n",
            "          [-0.2392, -0.1608, -0.4039,  ..., -0.2471, -0.3020, -0.3569]],\n",
            "\n",
            "         [[-0.0824, -0.0510, -0.0118,  ..., -0.3882, -0.4275, -0.4588],\n",
            "          [ 0.0039, -0.0196,  0.0275,  ..., -0.5294, -0.6314, -0.6157],\n",
            "          [-0.1216, -0.2471, -0.3333,  ..., -0.4824, -0.6627, -0.7412],\n",
            "          ...,\n",
            "          [-0.6078, -0.5922, -0.7098,  ..., -0.6941, -0.4118, -0.3804],\n",
            "          [-0.3569, -0.3176, -0.4039,  ..., -0.4431, -0.4039, -0.5922],\n",
            "          [-0.3804, -0.2863, -0.4588,  ..., -0.5843, -0.6706, -0.7020]]],\n",
            "\n",
            "\n",
            "        [[[-0.1451, -0.1765, -0.1843,  ..., -0.1686, -0.1686, -0.1686],\n",
            "          [-0.1216, -0.1451, -0.1608,  ..., -0.1765, -0.1765, -0.1843],\n",
            "          [-0.1059, -0.1373, -0.1294,  ..., -0.1608, -0.1686, -0.1686],\n",
            "          ...,\n",
            "          [-0.4745, -0.5373, -0.5137,  ..., -0.3961, -0.4039, -0.3961],\n",
            "          [-0.5451, -0.5843, -0.5529,  ..., -0.2706, -0.2392, -0.2471],\n",
            "          [-0.5608, -0.5686, -0.5294,  ..., -0.1059, -0.0275, -0.0667]],\n",
            "\n",
            "         [[ 0.1765,  0.1608,  0.1686,  ...,  0.1529,  0.1529,  0.1529],\n",
            "          [ 0.2000,  0.1922,  0.1922,  ...,  0.1843,  0.1765,  0.1765],\n",
            "          [ 0.2157,  0.2078,  0.2235,  ...,  0.1922,  0.1922,  0.1922],\n",
            "          ...,\n",
            "          [-0.3020, -0.3333, -0.3333,  ..., -0.3725, -0.3882, -0.3804],\n",
            "          [-0.2784, -0.2941, -0.2784,  ..., -0.2314, -0.2314, -0.2471],\n",
            "          [-0.2549, -0.2314, -0.2235,  ..., -0.0902, -0.0745, -0.1059]],\n",
            "\n",
            "         [[ 0.4431,  0.4196,  0.4196,  ...,  0.4196,  0.4196,  0.4196],\n",
            "          [ 0.4510,  0.4353,  0.4275,  ...,  0.4196,  0.4196,  0.4118],\n",
            "          [ 0.4510,  0.4353,  0.4510,  ...,  0.4196,  0.4196,  0.4196],\n",
            "          ...,\n",
            "          [-0.4275, -0.4667, -0.4588,  ..., -0.3255, -0.3490, -0.3412],\n",
            "          [-0.5686, -0.5843, -0.5686,  ..., -0.1843, -0.2157, -0.2314],\n",
            "          [-0.6235, -0.6078, -0.5843,  ..., -0.0745, -0.0980, -0.1294]]]])\n",
            "tensor([9, 7, 6, 9])\n"
          ]
        }
      ]
    },
    {
      "cell_type": "code",
      "source": [
        "print(images[0].shape) # imagem de 32x32x3"
      ],
      "metadata": {
        "colab": {
          "base_uri": "https://localhost:8080/"
        },
        "id": "U3Z_6K8y2as6",
        "outputId": "5116d22f-eac3-44b3-ece6-f6b377b9a50e"
      },
      "execution_count": 17,
      "outputs": [
        {
          "output_type": "stream",
          "name": "stdout",
          "text": [
            "torch.Size([3, 32, 32])\n"
          ]
        }
      ]
    },
    {
      "cell_type": "code",
      "source": [
        "print(images.shape) # quatro imagens de 32x32x3\n",
        "print(torchvision.utils.make_grid(images).shape) # quadro"
      ],
      "metadata": {
        "colab": {
          "base_uri": "https://localhost:8080/"
        },
        "id": "shfaToHA2Rf3",
        "outputId": "28eb6a45-64b1-4537-a4b8-cb9b7f2fcee9"
      },
      "execution_count": 18,
      "outputs": [
        {
          "output_type": "stream",
          "name": "stdout",
          "text": [
            "torch.Size([4, 3, 32, 32])\n",
            "torch.Size([3, 36, 138])\n"
          ]
        }
      ]
    },
    {
      "cell_type": "code",
      "source": [
        "# show images\n",
        "show_image(torchvision.utils.make_grid(images))\n",
        "# print labels\n",
        "print(' '.join(f'{classes[labels[j]]:5s}' for j in range(batch_size)))"
      ],
      "metadata": {
        "colab": {
          "base_uri": "https://localhost:8080/",
          "height": 210
        },
        "id": "AML0QVxt1xqC",
        "outputId": "3a807bf8-9efd-45aa-d397-b8d7235731db"
      },
      "execution_count": 19,
      "outputs": [
        {
          "output_type": "display_data",
          "data": {
            "text/plain": [
              "<Figure size 640x480 with 1 Axes>"
            ],
            "image/png": "[encoded data removed]"
          },
          "metadata": {}
        },
        {
          "output_type": "stream",
          "name": "stdout",
          "text": [
            "truck horse frog  truck\n"
          ]
        }
      ]
    },
    {
      "cell_type": "markdown",
      "source": [
        "### Define a Convolutional Neural Network"
      ],
      "metadata": {
        "id": "AdOsJX493fBE"
      }
    },
    {
      "cell_type": "code",
      "source": [
        "import torch.nn as nn\n",
        "import torch.nn.functional as F"
      ],
      "metadata": {
        "id": "bTaqLc5K3ZnB"
      },
      "execution_count": 20,
      "outputs": []
    },
    {
      "cell_type": "code",
      "source": [
        "class Net(nn.Module):\n",
        "    def __init__(self):\n",
        "        super().__init__()\n",
        "        self.conv1 = nn.Conv2d(3, 6, 5)\n",
        "        self.pool = nn.MaxPool2d(2, 2)\n",
        "        self.conv2 = nn.Conv2d(6, 16, 5)\n",
        "        self.fc1 = nn.Linear(16 * 5 * 5, 120)\n",
        "        self.fc2 = nn.Linear(120, 84)\n",
        "        self.fc3 = nn.Linear(84, 10)\n",
        "\n",
        "    def forward(self, x):\n",
        "        x = self.pool(F.relu(self.conv1(x)))\n",
        "        x = self.pool(F.relu(self.conv2(x)))\n",
        "        x = torch.flatten(x, 1) # flatten all dimensions except batch\n",
        "        x = F.relu(self.fc1(x))\n",
        "        x = F.relu(self.fc2(x))\n",
        "        x = self.fc3(x)\n",
        "        return x\n",
        "\n",
        "\n",
        "net = Net()"
      ],
      "metadata": {
        "id": "vqQ39UQc3h91"
      },
      "execution_count": 22,
      "outputs": []
    },
    {
      "cell_type": "code",
      "source": [
        "import torch.optim as optim\n",
        "\n",
        "criterion = nn.CrossEntropyLoss()\n",
        "optimizer = optim.SGD(net.parameters(), lr=0.001, momentum=0.9)"
      ],
      "metadata": {
        "id": "AKxxuv9S34Sd"
      },
      "execution_count": 23,
      "outputs": []
    },
    {
      "cell_type": "code",
      "source": [
        "net.to(device)"
      ],
      "metadata": {
        "colab": {
          "base_uri": "https://localhost:8080/"
        },
        "id": "uH62Ea4k8Pz0",
        "outputId": "75c796b6-2f70-4149-c4aa-5d738e9284e7"
      },
      "execution_count": 28,
      "outputs": [
        {
          "output_type": "execute_result",
          "data": {
            "text/plain": [
              "Net(\n",
              "  (conv1): Conv2d(3, 6, kernel_size=(5, 5), stride=(1, 1))\n",
              "  (pool): MaxPool2d(kernel_size=2, stride=2, padding=0, dilation=1, ceil_mode=False)\n",
              "  (conv2): Conv2d(6, 16, kernel_size=(5, 5), stride=(1, 1))\n",
              "  (fc1): Linear(in_features=400, out_features=120, bias=True)\n",
              "  (fc2): Linear(in_features=120, out_features=84, bias=True)\n",
              "  (fc3): Linear(in_features=84, out_features=10, bias=True)\n",
              ")"
            ]
          },
          "metadata": {},
          "execution_count": 28
        }
      ]
    },
    {
      "cell_type": "code",
      "source": [
        "for epoch in range(2):  # loop over the dataset multiple times\n",
        "\n",
        "    running_loss = 0.0\n",
        "    for i, data in enumerate(trainloader, 0):\n",
        "        # get the inputs; data is a list of [inputs, labels]\n",
        "        inputs, labels = data\n",
        "\n",
        "        # zero the parameter gradients\n",
        "        optimizer.zero_grad()\n",
        "\n",
        "        # forward + backward + optimize\n",
        "        outputs = net(inputs)\n",
        "        loss = criterion(outputs, labels)\n",
        "        loss.backward()\n",
        "        optimizer.step()\n",
        "\n",
        "        # print statistics\n",
        "        running_loss += loss.item()\n",
        "        if i % 2000 == 1999:    # print every 2000 mini-batches\n",
        "            print(f'[{epoch + 1}, {i + 1:5d}] loss: {running_loss / 2000:.3f}')\n",
        "            running_loss = 0.0\n",
        "\n",
        "print('Finished Training')\n",
        "print('CPU: 3m33s')\n",
        "print('GPU: 1m51s')"
      ],
      "metadata": {
        "colab": {
          "base_uri": "https://localhost:8080/"
        },
        "id": "J89IpGHc4YGg",
        "outputId": "292fa571-6203-475a-e574-29ea9cb92971"
      },
      "execution_count": 30,
      "outputs": [
        {
          "output_type": "stream",
          "name": "stdout",
          "text": [
            "[1,  2000] loss: 2.191\n",
            "[1,  4000] loss: 1.876\n",
            "[1,  6000] loss: 1.686\n",
            "[1,  8000] loss: 1.593\n",
            "[1, 10000] loss: 1.518\n",
            "[1, 12000] loss: 1.462\n",
            "[2,  2000] loss: 1.411\n",
            "[2,  4000] loss: 1.369\n",
            "[2,  6000] loss: 1.349\n",
            "[2,  8000] loss: 1.312\n",
            "[2, 10000] loss: 1.290\n",
            "[2, 12000] loss: 1.280\n",
            "Finished Training\n",
            "CPU: 3m33s\n",
            "GPU: 2m28s\n"
          ]
        }
      ]
    },
    {
      "cell_type": "code",
      "source": [
        "PATH = './cifar_net.pth'\n",
        "torch.save(net.state_dict(), PATH)"
      ],
      "metadata": {
        "id": "uFcmmKzd59OW"
      },
      "execution_count": 31,
      "outputs": []
    },
    {
      "cell_type": "code",
      "source": [
        "dataiter = iter(testloader)\n",
        "images, labels = next(dataiter)\n",
        "\n",
        "# print images\n",
        "show_image(torchvision.utils.make_grid(images))\n",
        "print('GroundTruth: ', ' '.join(f'{classes[labels[j]]:5s}' for j in range(4)))"
      ],
      "metadata": {
        "colab": {
          "base_uri": "https://localhost:8080/",
          "height": 210
        },
        "id": "-A9rxmSn6A1Q",
        "outputId": "d4752c75-2bc4-416f-8f13-8633e0c810b6"
      },
      "execution_count": 32,
      "outputs": [
        {
          "output_type": "display_data",
          "data": {
            "text/plain": [
              "<Figure size 640x480 with 1 Axes>"
            ],
            "image/png": "[encoded data removed]"
          },
          "metadata": {}
        },
        {
          "output_type": "stream",
          "name": "stdout",
          "text": [
            "GroundTruth:  cat   ship  ship  plane\n"
          ]
        }
      ]
    },
    {
      "cell_type": "code",
      "source": [
        "net = Net()\n",
        "net.load_state_dict(torch.load(PATH, weights_only=True))"
      ],
      "metadata": {
        "colab": {
          "base_uri": "https://localhost:8080/"
        },
        "id": "eUAYXkOA6Ehg",
        "outputId": "4a7e98e9-e50d-4179-e5c3-f47027de5952"
      },
      "execution_count": 33,
      "outputs": [
        {
          "output_type": "execute_result",
          "data": {
            "text/plain": [
              "<All keys matched successfully>"
            ]
          },
          "metadata": {},
          "execution_count": 33
        }
      ]
    },
    {
      "cell_type": "code",
      "source": [
        "outputs = net(images)"
      ],
      "metadata": {
        "id": "haqsrUWw6Gdq"
      },
      "execution_count": 34,
      "outputs": []
    },
    {
      "cell_type": "code",
      "source": [
        "_, predicted = torch.max(outputs, 1)\n",
        "\n",
        "print('Predicted: ', ' '.join(f'{classes[predicted[j]]:5s}'\n",
        "                              for j in range(4)))"
      ],
      "metadata": {
        "colab": {
          "base_uri": "https://localhost:8080/"
        },
        "id": "yYkGtp3U6HqI",
        "outputId": "cb15311c-9d96-4448-b003-f7472de7dfd0"
      },
      "execution_count": 35,
      "outputs": [
        {
          "output_type": "stream",
          "name": "stdout",
          "text": [
            "Predicted:  bird  ship  ship  plane\n"
          ]
        }
      ]
    },
    {
      "cell_type": "code",
      "source": [
        "correct = 0\n",
        "total = 0\n",
        "\n",
        "with torch.no_grad(): # since we're not training, we don't need to calculate the gradients for our outputs\n",
        "    for data in testloader:\n",
        "        images, labels = data\n",
        "\n",
        "        outputs = net(images) # calculate outputs by running images through the network\n",
        "\n",
        "        _, predicted = torch.max(outputs.data, 1) # the class with the highest energy is what we choose as prediction\n",
        "        total += labels.size(0)\n",
        "        correct += (predicted == labels).sum().item()\n",
        "\n",
        "print(f'Accuracy of the network on the 10000 test images: {100 * correct // total} %')"
      ],
      "metadata": {
        "colab": {
          "base_uri": "https://localhost:8080/"
        },
        "id": "QQtNWbRe-ltb",
        "outputId": "0f46ba4c-e52b-427a-cb68-75d3dc308f1b"
      },
      "execution_count": 36,
      "outputs": [
        {
          "output_type": "stream",
          "name": "stdout",
          "text": [
            "Accuracy of the network on the 10000 test images: 53 %\n"
          ]
        }
      ]
    },
    {
      "cell_type": "code",
      "source": [
        "# prepare to count predictions for each class\n",
        "correct_pred = {classname: 0 for classname in classes}\n",
        "total_pred = {classname: 0 for classname in classes}\n",
        "\n",
        "\n",
        "with torch.no_grad(): # again no gradients needed\n",
        "    for data in testloader:\n",
        "        images, labels = data\n",
        "        outputs = net(images)\n",
        "        _, predictions = torch.max(outputs, 1)\n",
        "        # collect the correct predictions for each class\n",
        "        for label, prediction in zip(labels, predictions):\n",
        "            if label == prediction:\n",
        "                correct_pred[classes[label]] += 1\n",
        "            total_pred[classes[label]] += 1\n",
        "\n",
        "\n",
        "# print accuracy for each class\n",
        "for classname, correct_count in correct_pred.items():\n",
        "    accuracy = 100 * float(correct_count) / total_pred[classname]\n",
        "    print(f'Accuracy for class: {classname:5s} is {accuracy:.1f} %')"
      ],
      "metadata": {
        "colab": {
          "base_uri": "https://localhost:8080/"
        },
        "id": "sR10UsU3-19w",
        "outputId": "4e461801-f3b8-49b9-ad8b-fce5b31af68f"
      },
      "execution_count": 37,
      "outputs": [
        {
          "output_type": "stream",
          "name": "stdout",
          "text": [
            "Accuracy for class: plane is 54.2 %\n",
            "Accuracy for class: car   is 50.7 %\n",
            "Accuracy for class: bird  is 60.9 %\n",
            "Accuracy for class: cat   is 37.5 %\n",
            "Accuracy for class: deer  is 46.2 %\n",
            "Accuracy for class: dog   is 41.1 %\n",
            "Accuracy for class: frog  is 63.5 %\n",
            "Accuracy for class: horse is 52.7 %\n",
            "Accuracy for class: ship  is 58.6 %\n",
            "Accuracy for class: truck is 73.9 %\n"
          ]
        }
      ]
    },
    {
      "cell_type": "markdown",
      "source": [
        "### Training on GPU"
      ],
      "metadata": {
        "id": "UZmZxRlg_beJ"
      }
    },
    {
      "cell_type": "code",
      "source": [
        "device = torch.device('cuda:0' if torch.cuda.is_available() else 'cpu')\n",
        "\n",
        "# Assuming that we are on a CUDA machine, this should print a CUDA device:\n",
        "\n",
        "print(device)"
      ],
      "metadata": {
        "colab": {
          "base_uri": "https://localhost:8080/"
        },
        "id": "tTYGECeZ_bN5",
        "outputId": "680fa51e-0334-4903-8a58-68f8c1bb60e7"
      },
      "execution_count": 38,
      "outputs": [
        {
          "output_type": "stream",
          "name": "stdout",
          "text": [
            "cuda:0\n"
          ]
        }
      ]
    },
    {
      "cell_type": "code",
      "source": [
        "net.to(device)"
      ],
      "metadata": {
        "colab": {
          "base_uri": "https://localhost:8080/"
        },
        "id": "Y7pTfPqt_YWw",
        "outputId": "fbb3c42f-bfc3-4e95-809a-438307ec2ab1"
      },
      "execution_count": 39,
      "outputs": [
        {
          "output_type": "execute_result",
          "data": {
            "text/plain": [
              "Net(\n",
              "  (conv1): Conv2d(3, 6, kernel_size=(5, 5), stride=(1, 1))\n",
              "  (pool): MaxPool2d(kernel_size=2, stride=2, padding=0, dilation=1, ceil_mode=False)\n",
              "  (conv2): Conv2d(6, 16, kernel_size=(5, 5), stride=(1, 1))\n",
              "  (fc1): Linear(in_features=400, out_features=120, bias=True)\n",
              "  (fc2): Linear(in_features=120, out_features=84, bias=True)\n",
              "  (fc3): Linear(in_features=84, out_features=10, bias=True)\n",
              ")"
            ]
          },
          "metadata": {},
          "execution_count": 39
        }
      ]
    },
    {
      "cell_type": "code",
      "source": [
        "for epoch in range(2):  # loop over the dataset multiple times\n",
        "\n",
        "    running_loss = 0.0\n",
        "    for i, data in enumerate(trainloader, 0):\n",
        "        # get the inputs; data is a list of [inputs, labels]\n",
        "        inputs, labels = data[0].to(device), data[1].to(device)\n",
        "\n",
        "        # zero the parameter gradients\n",
        "        optimizer.zero_grad()\n",
        "\n",
        "        # forward + backward + optimize\n",
        "        outputs = net(inputs)\n",
        "        loss = criterion(outputs, labels)\n",
        "        loss.backward()\n",
        "        optimizer.step()\n",
        "\n",
        "        # print statistics\n",
        "        running_loss += loss.item()\n",
        "        if i % 2000 == 1999:    # print every 2000 mini-batches\n",
        "            print(f'[{epoch + 1}, {i + 1:5d}] loss: {running_loss / 2000:.3f}')\n",
        "            running_loss = 0.0\n",
        "\n",
        "print('Finished Training')\n",
        "print('CPU: 3m33s')\n",
        "print('GPU: 1m51s')"
      ],
      "metadata": {
        "id": "Pzdbs9I-_8ou"
      },
      "execution_count": null,
      "outputs": []
    }
  ]
}